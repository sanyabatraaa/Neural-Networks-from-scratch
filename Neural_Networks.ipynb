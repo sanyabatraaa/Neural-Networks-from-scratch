{
  "nbformat": 4,
  "nbformat_minor": 0,
  "metadata": {
    "colab": {
      "provenance": []
    },
    "kernelspec": {
      "name": "python3",
      "display_name": "Python 3"
    },
    "language_info": {
      "name": "python"
    }
  },
  "cells": [
    {
      "cell_type": "code",
      "execution_count": null,
      "metadata": {
        "colab": {
          "base_uri": "https://localhost:8080/"
        },
        "id": "S5hhPO3Mm661",
        "outputId": "4ddf6a41-8b7e-4b0e-c654-030d1915bcee"
      },
      "outputs": [
        {
          "output_type": "stream",
          "name": "stdout",
          "text": [
            "2.3\n"
          ]
        }
      ],
      "source": [
        "inputs= [1,2,3]\n",
        "weights=[0.2,0.8,-0.5]\n",
        "bias=2.0\n",
        "outputs= (inputs[0]*weights[0]+inputs[1]*weights[1]+inputs[2]*weights[2]+bias)\n",
        "print(outputs)"
      ]
    },
    {
      "cell_type": "code",
      "source": [
        "inputs=[1,2,3,2.5]\n",
        "weights=[[0.2,0.8,-0.5,1],\n",
        "[0.5,-0.91,0.26,-0.5],[-0.26,-0.27,0.17,0.87]]\n",
        "weights1 = weights[0] #LIST OF WEIGHTS ASSOCIATED WITH 1ST NEURON : W11, W12, W13, W14\n",
        "weights2 = weights[1] #LIST OF WEIGHTS ASSOCIATED WITH 2ND NEURON : W21, W22, W23, W24\n",
        "weights3 = weights[2] #LIST OF WEIGHTS ASSOCIATED WITH 3RD NEURON : W31, W32, W33, W34\n",
        "biases=[2,3,0.5]\n",
        "bias1=2\n",
        "bias2=3\n",
        "bias3=0.5\n",
        "\n",
        "outputs=[inputs[0]*weights1[0]+inputs[1]*weights1[1]+inputs[2]*weights1[2]+bias1,\n",
        "        inputs[0]*weights2[0]+inputs[1]*weights2[1]+inputs[2]*weights2[2]+bias2,\n",
        "        inputs[0]*weights3[0]+inputs[1]*weights3[1]+inputs[2]*weights3[2]+bias3\n",
        "        ]\n",
        "print(outputs)"
      ],
      "metadata": {
        "colab": {
          "base_uri": "https://localhost:8080/"
        },
        "id": "EdN9JtgJnYGx",
        "outputId": "3c371957-dbd2-4f2d-9460-12d5f0514bd4"
      },
      "execution_count": null,
      "outputs": [
        {
          "output_type": "stream",
          "name": "stdout",
          "text": [
            "[2.3, 2.46, 0.20999999999999996]\n"
          ]
        }
      ]
    },
    {
      "cell_type": "code",
      "source": [
        "inputs=[1,2,3,2.5]\n",
        "weights=[[0.2,0.8,-0.5,1],[0.5,-0.91,0.26,-0.5],[-0.26,-0.27,0.17,0.87]]\n",
        "biases=[2,3,0.5]\n",
        "layer_outputs=[]\n",
        "for neuron_weights,neuron_bias in zip(weights,biases):\n",
        "  neuron_output=0\n",
        "  for n_input,weight in zip(inputs,neuron_weights):\n",
        "    neuron_output+=n_input*weight\n",
        "  neuron_output+=bias\n",
        "  layer_outputs.append(neuron_output)\n",
        "print(layer_outputs)"
      ],
      "metadata": {
        "colab": {
          "base_uri": "https://localhost:8080/"
        },
        "id": "o6hALhN5nYJ8",
        "outputId": "d00a680d-ce9f-4998-9252-5b246f9c13f0"
      },
      "execution_count": null,
      "outputs": [
        {
          "output_type": "stream",
          "name": "stdout",
          "text": [
            "[4.8, 0.20999999999999996, 3.885]\n"
          ]
        }
      ]
    },
    {
      "cell_type": "code",
      "source": [
        "#single neuron using numpy\n",
        "import numpy as np\n",
        "inputs=[1.0,2.0,3.0,2.5]\n",
        "weights=[0.2,0.8,-0.5,1.0]\n",
        "bias=2.0\n",
        "inputs_array=np.array(inputs)\n",
        "weights_array= np.array(weights)\n",
        "outputs= np.dot(inputs_array,weights_array)+bias\n",
        "print(outputs)"
      ],
      "metadata": {
        "colab": {
          "base_uri": "https://localhost:8080/"
        },
        "id": "FOc1LUjXnYNd",
        "outputId": "21d49499-6520-4f37-9a53-30191d00e55c"
      },
      "execution_count": null,
      "outputs": [
        {
          "output_type": "stream",
          "name": "stdout",
          "text": [
            "4.8\n"
          ]
        }
      ]
    },
    {
      "cell_type": "code",
      "source": [
        "# layer of neuron using numpy\n",
        "inputs=[1.0,2.0,3.0,2.5]\n",
        "weights=[[0.2,0.8,-0.5,1],[0.5,-0.91,0.26,-0.5],[-0.26,-0.27,0.17,0.87]]\n",
        "biases=[2.0,3.0,0.5]\n",
        "inputs_array= np.array(inputs)\n",
        "weights_array=np.array(weights)\n",
        "biases_array= np.array(biases)\n",
        "layer_outputs= np.dot(weights_array,inputs_array)+biases_array\n",
        "layer_outputs1= np.dot(inputs_array,weights_array.T)+biases_array\n",
        "print(layer_outputs)\n",
        "print(layer_outputs1)"
      ],
      "metadata": {
        "colab": {
          "base_uri": "https://localhost:8080/"
        },
        "id": "jccW3J10nYUK",
        "outputId": "11a2928f-c2d1-48f8-a87f-65c5198b73aa"
      },
      "execution_count": null,
      "outputs": [
        {
          "output_type": "stream",
          "name": "stdout",
          "text": [
            "[4.79999995 1.21000004 2.38499999]\n",
            "[4.79999995 1.21000004 2.38499999]\n"
          ]
        }
      ]
    },
    {
      "cell_type": "code",
      "source": [
        "#layer of neurons and batch of data using numpy\n",
        "import numpy as np\n",
        "inputs=[[1.0,2.0,3.0,2.5],[2.0,5.0,-1.0,2.0],[-1.5,2.7,3.3,-0.8]]\n",
        "weights=[[0.2,0.8,-0.5,1],[0.5,-0.91,0.26,-0.5],[-0.26,-0.27,0.17,0.87]]\n",
        "biases=[2.0,3.0,0.5]\n",
        "inputs_array= np.array(inputs)\n",
        "weights_array= np.array(weights)\n",
        "biases_array= np.array(biases)\n",
        "outputs= np.dot(inputs_array,weights_array.T)+biases_array\n",
        "print(outputs)"
      ],
      "metadata": {
        "colab": {
          "base_uri": "https://localhost:8080/"
        },
        "id": "yRH6X63BnYXp",
        "outputId": "e6eb00f5-3b0a-4191-cae9-a237e199aadd"
      },
      "execution_count": null,
      "outputs": [
        {
          "output_type": "stream",
          "name": "stdout",
          "text": [
            "[[ 4.79999995  1.21000004  2.38499999]\n",
            " [ 8.9000001  -1.80999994  0.19999999]\n",
            " [ 1.41000003  1.051       0.02599999]]\n"
          ]
        }
      ]
    },
    {
      "cell_type": "code",
      "source": [
        "# 2 layers and batch of data using numpy\n",
        "import numpy as np\n",
        "inputs=[[1.0,2.0,3.0,2.5],[2.0,5.0,-1.0,2.0],[-1.5,2.7,3.3,-0.8]]\n",
        "weights=[[0.2,0.8,-0.5,1],[0.5,-0.91,0.26,-0.5],[-0.26,-0.27,0.17,0.87]]\n",
        "biases=[2.0,3.0,0.5]\n",
        "weights2=[[0.1,-0.14,0.5],[-0.5,0.12,-0.33],[-0.44, 0.73, -0.13]]\n",
        "biases2=[-1,2,-0.5]\n",
        "inputs_array=np.array(inputs)\n",
        "weights_array= np.array(weights)\n",
        "biases_array= np.array(biases)\n",
        "weights2_array= np.array(weights2)\n",
        "biases2_array= np.array(biases2)\n",
        "layer1_outputs= np.dot(inputs_array,weights_array.T)+biases_array\n",
        "layer2_outputs=np.dot(layer1_outputs,weights2_array.T)+biases2_array\n",
        "print(layer2_outputs)"
      ],
      "metadata": {
        "colab": {
          "base_uri": "https://localhost:8080/"
        },
        "id": "nY4enGOpyhB_",
        "outputId": "96a29a8f-94fa-41bc-e8f0-7342bf7dd683"
      },
      "execution_count": null,
      "outputs": [
        {
          "output_type": "stream",
          "name": "stdout",
          "text": [
            "[[ 0.50310004 -1.04184985 -2.03874993]\n",
            " [ 0.24339998 -2.73320007 -5.76329994]\n",
            " [-0.99314     1.41254002 -0.35655001]]\n"
          ]
        }
      ]
    },
    {
      "cell_type": "code",
      "source": [
        "pip install nnfs"
      ],
      "metadata": {
        "colab": {
          "base_uri": "https://localhost:8080/"
        },
        "id": "CPSaxTzE__CL",
        "outputId": "0069e505-95c6-4c4c-82cd-9fa70b8342cf"
      },
      "execution_count": null,
      "outputs": [
        {
          "output_type": "stream",
          "name": "stdout",
          "text": [
            "Requirement already satisfied: nnfs in /usr/local/lib/python3.12/dist-packages (0.5.1)\n",
            "Requirement already satisfied: numpy in /usr/local/lib/python3.12/dist-packages (from nnfs) (2.0.2)\n"
          ]
        }
      ]
    },
    {
      "cell_type": "code",
      "source": [
        "from nnfs.datasets import spiral_data\n",
        "import numpy as np\n",
        "import nnfs\n",
        "nnfs.init()\n",
        "import matplotlib.pyplot as plt\n",
        "X,y= spiral_data(samples=100,classes=3)\n",
        "plt.scatter(X[:,0],X[:,1])\n",
        "plt.show()"
      ],
      "metadata": {
        "colab": {
          "base_uri": "https://localhost:8080/",
          "height": 430
        },
        "id": "ifVmRRZTyhFX",
        "outputId": "cf39149d-bab4-42e0-d783-7a3d197b0448"
      },
      "execution_count": null,
      "outputs": [
        {
          "output_type": "display_data",
          "data": {
            "text/plain": [
              "<Figure size 640x480 with 1 Axes>"
            ],
            "image/png": "[encoded data removed]"
          },
          "metadata": {}
        }
      ]
    },
    {
      "cell_type": "code",
      "source": [
        "plt.scatter(X[:,0],X[:,1],c=y,cmap='brg')\n",
        "plt.show()"
      ],
      "metadata": {
        "colab": {
          "base_uri": "https://localhost:8080/",
          "height": 430
        },
        "id": "sehHI0ZdACdG",
        "outputId": "0465a5ab-aaa9-445c-803b-d54da737e2b4"
      },
      "execution_count": null,
      "outputs": [
        {
          "output_type": "display_data",
          "data": {
            "text/plain": [
              "<Figure size 640x480 with 1 Axes>"
            ],
            "image/png": "[encoded data removed]"
          },
          "metadata": {}
        }
      ]
    },
    {
      "cell_type": "code",
      "source": [
        "import numpy as np\n",
        "import nnfs\n",
        "from nnfs.datasets import spiral_data\n",
        "nnfs.init()\n",
        "class Layer_Dense:\n",
        "  def __init__(self,n_inputs,n_neurons):\n",
        "    self.weights= 0.01* np.random.randn(n_inputs,n_neurons)\n",
        "    self.biases= np.zeros((1,n_neurons))\n",
        "\n",
        "  def forward(self,inputs):\n",
        "    self.output= np.dot(inputs,self.weights)+self.biases\n",
        "X,y = spiral_data(samples=100,classes=3)\n",
        "dense1= Layer_Dense(2,3)\n",
        "dense1.forward(X)\n",
        "print(dense1.output[:5])"
      ],
      "metadata": {
        "id": "YBtLSA6ZACgi",
        "colab": {
          "base_uri": "https://localhost:8080/"
        },
        "outputId": "ccd574e5-b837-4ad8-d2f6-f422ef18e62b"
      },
      "execution_count": null,
      "outputs": [
        {
          "output_type": "stream",
          "name": "stdout",
          "text": [
            "[[ 0.0000000e+00  0.0000000e+00  0.0000000e+00]\n",
            " [-1.0475188e-04  1.1395361e-04 -4.7983500e-05]\n",
            " [-2.7414842e-04  3.1729150e-04 -8.6921798e-05]\n",
            " [-4.2188365e-04  5.2666257e-04 -5.5912682e-05]\n",
            " [-5.7707680e-04  7.1401405e-04 -8.9430439e-05]]\n"
          ]
        }
      ]
    },
    {
      "cell_type": "code",
      "source": [
        "#relu activation\n",
        "class Activation_ReLU:\n",
        "  def forward(self,inputs):\n",
        "    self.output= np.maximum(0,inputs)"
      ],
      "metadata": {
        "id": "i6eFgF4DACjo"
      },
      "execution_count": null,
      "outputs": []
    },
    {
      "cell_type": "code",
      "source": [
        "X,y = spiral_data(samples=100,classes=3)\n",
        "dense1= Layer_Dense(2,3)\n",
        "activation1= Activation_ReLU()\n",
        "dense1.forward(X)\n",
        "activation1.forward(dense1.output)\n",
        "print(activation1.output[:5])"
      ],
      "metadata": {
        "id": "vOWbGCJMACm4",
        "colab": {
          "base_uri": "https://localhost:8080/"
        },
        "outputId": "8e531764-8a2f-4596-8e27-856b343c5074"
      },
      "execution_count": null,
      "outputs": [
        {
          "output_type": "stream",
          "name": "stdout",
          "text": [
            "[[0. 0. 0.]\n",
            " [0. 0. 0.]\n",
            " [0. 0. 0.]\n",
            " [0. 0. 0.]\n",
            " [0. 0. 0.]]\n"
          ]
        }
      ]
    },
    {
      "cell_type": "code",
      "source": [
        "A= [[1,2,3],[4,5,6],[7,8,9]]\n",
        "print(np.sum(A))\n",
        "print(np.sum(A,axis=0))\n",
        "print(np.sum(A,axis=0).shape)\n",
        "print(np.sum(A,axis=1))\n",
        "print(np.sum(A,axis=1).shape)\n",
        "print(np.sum(A,axis=0,keepdims=True))\n",
        "print(np.sum(A,axis=0,keepdims=True).shape)\n",
        "print(np.sum(A,axis=1,keepdims=True))\n",
        "print(np.sum(A,axis=1,keepdims=True).shape)\n",
        "print(np.max(A,axis=0))\n",
        "print(np.max(A,axis=1))"
      ],
      "metadata": {
        "id": "dz2aaMLwACqP",
        "colab": {
          "base_uri": "https://localhost:8080/"
        },
        "outputId": "e1d7731b-8bea-45f6-e014-ff7e415ab212"
      },
      "execution_count": null,
      "outputs": [
        {
          "output_type": "stream",
          "name": "stdout",
          "text": [
            "45\n",
            "[12 15 18]\n",
            "(3,)\n",
            "[ 6 15 24]\n",
            "(3,)\n",
            "[[12 15 18]]\n",
            "(1, 3)\n",
            "[[ 6]\n",
            " [15]\n",
            " [24]]\n",
            "(3, 1)\n",
            "[7 8 9]\n",
            "[3 6 9]\n"
          ]
        }
      ]
    },
    {
      "cell_type": "code",
      "source": [
        "#softmax activation\n",
        "class Activation_Softmax:\n",
        "  def forward(self,inputs):\n",
        "    exp_values= np.exp(inputs-np.max(inputs,axis=1,keepdims=True))\n",
        "    probabilities= exp_values/np.sum(exp_values,axis=1,keepdims=True)\n",
        "    self.output= probabilities"
      ],
      "metadata": {
        "id": "bvopn1jeyhKG"
      },
      "execution_count": null,
      "outputs": []
    },
    {
      "cell_type": "code",
      "source": [
        "X,y = spiral_data(samples=100,classes=3)\n",
        "dense1= Layer_Dense(2,3)\n",
        "activation1= Activation_ReLU()\n",
        "dense2= Layer_Dense(3,3)\n",
        "activation2= Activation_Softmax()\n",
        "dense1.forward(X)\n",
        "activation1.forward(dense1.output)\n",
        "dense2.forward(activation1.output)\n",
        "activation2.forward(dense2.output)\n",
        "print(activation2.output[:5])"
      ],
      "metadata": {
        "id": "8bXSAqUIyhM3",
        "colab": {
          "base_uri": "https://localhost:8080/"
        },
        "outputId": "1cdc8fcc-8b71-4f36-c283-58bb3add8716"
      },
      "execution_count": null,
      "outputs": [
        {
          "output_type": "stream",
          "name": "stdout",
          "text": [
            "[[0.33333334 0.33333334 0.33333334]\n",
            " [0.33333364 0.3333334  0.3333329 ]\n",
            " [0.33333385 0.33333346 0.33333266]\n",
            " [0.33333433 0.3333336  0.3333321 ]\n",
            " [0.33333465 0.33333373 0.33333164]]\n"
          ]
        }
      ]
    },
    {
      "cell_type": "code",
      "source": [
        "softmax_outputs= np.array([[0.7,0.1,0.2],[0.1,0.5,0.4],[0.02,0.9,0.08]])\n",
        "class_targets= [0,1,1]\n",
        "print(softmax_outputs[[0,1,2],[class_targets]])"
      ],
      "metadata": {
        "id": "zc9c32R5yhP1",
        "colab": {
          "base_uri": "https://localhost:8080/"
        },
        "outputId": "be93cdd0-3642-430b-c6b4-6967dc03a9d6"
      },
      "execution_count": null,
      "outputs": [
        {
          "output_type": "stream",
          "name": "stdout",
          "text": [
            "[[0.7 0.5 0.9]]\n"
          ]
        }
      ]
    },
    {
      "cell_type": "code",
      "source": [
        "neg_log= -np.log(softmax_outputs[range(len(softmax_outputs)),class_targets])\n",
        "avg_loss= np.mean(neg_log)\n",
        "print(avg_loss)"
      ],
      "metadata": {
        "id": "XfF6lI2XyhTZ",
        "colab": {
          "base_uri": "https://localhost:8080/"
        },
        "outputId": "42132bed-31b5-4d3a-ec67-6eadfdfa7029"
      },
      "execution_count": null,
      "outputs": [
        {
          "output_type": "stream",
          "name": "stdout",
          "text": [
            "0.38506088005216804\n"
          ]
        }
      ]
    },
    {
      "cell_type": "code",
      "source": [
        "y_true_check= np.array([[0,1,0],[1,0,0],[0,0,1]])\n",
        "y_pred_clipped_check= np.array([[0.2,0.7,0.1],[0.8,0.1,0.1],[0.1,0.2,0.7]])\n",
        "y_true_check*y_pred_clipped_check"
      ],
      "metadata": {
        "id": "lk95xCZjyhYO",
        "colab": {
          "base_uri": "https://localhost:8080/"
        },
        "outputId": "06aed4dd-d03b-4e08-df7d-3643bd656ce5"
      },
      "execution_count": null,
      "outputs": [
        {
          "output_type": "execute_result",
          "data": {
            "text/plain": [
              "array([[0. , 0.7, 0. ],\n",
              "       [0.8, 0. , 0. ],\n",
              "       [0. , 0. , 0.7]])"
            ]
          },
          "metadata": {},
          "execution_count": 62
        }
      ]
    },
    {
      "cell_type": "code",
      "source": [
        "class Loss:\n",
        "  def calculate(self,output,y):\n",
        "    sample_losses= self.forward(output,y)\n",
        "    data_loss= np.mean(sample_losses)\n",
        "    return data_loss"
      ],
      "metadata": {
        "id": "FXAvd7Ehyhbr"
      },
      "execution_count": null,
      "outputs": []
    },
    {
      "cell_type": "code",
      "source": [
        "class Loss_CategoricalCrossentropy(Loss):\n",
        "  def forward(self,y_pred,y_true):\n",
        "    samples= len(y_pred)\n",
        "    y_pred_clipped= np.clip(y_pred,1e-7,1-1e-7)\n",
        "    if len(y_true.shape)==1:\n",
        "      correct_confidences= y_pred_clipped[range(samples),y_true]\n",
        "    elif len(y_true.shape)==2:\n",
        "      correct_confidences= np.sum(y_pred_clipped*y_true,axis=1)\n",
        "    negative_log_likelihoods= -np.log(correct_confidences)\n",
        "    return negative_log_likelihoods\n",
        "\n",
        "  def backward(self,dvalues,y_true):\n",
        "    samples= len(dvalues)\n",
        "    labels= len(dvalues[0])\n",
        "    if len(y_true.shape)==1:\n",
        "      y_true= np.eye(labels)[y_true]\n",
        "    self.dinputs= -y_true/dvalues\n",
        "    self.dinputs= self.dinputs/samples"
      ],
      "metadata": {
        "id": "lxbr-I3AoQ_n"
      },
      "execution_count": null,
      "outputs": []
    },
    {
      "cell_type": "code",
      "source": [
        "softmax_outputs= np.array([[0.7,0.1,0.2],[0.1,0.5,0.4],[0.02,0.9,0.08]])\n",
        "class_targets= np.array([[1,0,0],[0,1,0],[0,1,0]])\n",
        "loss_function= Loss_CategoricalCrossentropy()\n",
        "loss= loss_function.calculate(softmax_outputs,class_targets)\n",
        "print(loss)"
      ],
      "metadata": {
        "id": "mevy-z0xoSBI",
        "colab": {
          "base_uri": "https://localhost:8080/"
        },
        "outputId": "abfa398d-53d4-4049-a5f5-3e5b8bdf30c3"
      },
      "execution_count": null,
      "outputs": [
        {
          "output_type": "stream",
          "name": "stdout",
          "text": [
            "0.38506088005216804\n"
          ]
        }
      ]
    },
    {
      "cell_type": "code",
      "source": [
        "X,y= spiral_data(samples=100,classes=3)\n",
        "dense1= Layer_Dense(2,3)\n",
        "activation1= Activation_ReLU()\n",
        "dense2= Layer_Dense(3,3)\n",
        "activation2= Activation_Softmax()\n",
        "loss_function= Loss_CategoricalCrossentropy()\n",
        "dense1.forward(X)\n",
        "activation1.forward(dense1.output)\n",
        "dense2.forward(activation1.output)\n",
        "activation2.forward(dense2.output)\n",
        "print(activation2.output[:5])\n",
        "loss= loss_function.calculate(activation2.output,y)\n",
        "print(\"loss\",loss)\n",
        "predictions= np.argmax(activation2.output,axis=1)\n",
        "print(\"pred\",predictions)\n",
        "if len(y.shape)==2:\n",
        "  y=np.argmax(y,axis=1)\n",
        "  print(\"y\",y)\n",
        "accuracy= np.mean(predictions==y)\n",
        "print(\"acc:\",accuracy)"
      ],
      "metadata": {
        "id": "MNiCgyP5oSOf",
        "colab": {
          "base_uri": "https://localhost:8080/"
        },
        "outputId": "32e0fdd3-b867-45d1-cae4-ecd076d986f1"
      },
      "execution_count": null,
      "outputs": [
        {
          "output_type": "stream",
          "name": "stdout",
          "text": [
            "[[0.33333334 0.33333334 0.33333334]\n",
            " [0.3333341  0.333333   0.3333329 ]\n",
            " [0.33333406 0.333333   0.33333293]\n",
            " [0.3333341  0.33333296 0.33333293]\n",
            " [0.3333364  0.33333203 0.33333158]]\n",
            "loss 1.0986193\n",
            "pred [0 0 0 0 0 0 0 0 0 0 1 0 0 1 1 1 1 1 1 1 1 1 1 1 1 1 1 1 1 1 1 0 1 1 1 1 1\n",
            " 1 1 1 0 0 0 1 0 0 0 0 0 0 0 0 0 0 0 0 0 0 0 0 0 0 0 0 0 0 0 0 0 0 0 0 0 1\n",
            " 1 0 1 1 1 1 0 1 1 1 1 1 1 1 1 1 1 1 1 1 1 1 1 0 1 1 0 0 1 1 1 1 1 0 0 0 0\n",
            " 0 1 0 0 0 0 0 0 0 0 0 0 0 0 0 0 1 0 0 0 0 0 0 0 0 0 0 1 1 1 1 1 0 0 1 1 1\n",
            " 1 1 1 1 1 1 1 1 1 1 1 1 1 1 1 1 1 1 1 0 0 0 0 0 0 0 0 0 0 0 0 0 0 0 0 0 0\n",
            " 0 0 0 0 0 0 0 0 0 0 0 0 1 0 1 0 0 0 0 1 1 1 1 1 1 1 1 1 1 1 1 1 1 1 1 1 1\n",
            " 1 1 1 1 1 1 0 1 0 0 1 0 0 0 0 0 0 0 0 0 0 0 0 0 0 0 0 0 0 0 0 0 0 0 0 0 0\n",
            " 0 1 1 0 0 1 1 0 1 1 1 1 0 1 1 1 1 1 1 1 1 1 1 1 1 1 1 1 1 1 0 0 1 1 0 1 0\n",
            " 0 0 0 0]\n",
            "acc: 0.28\n"
          ]
        }
      ]
    },
    {
      "cell_type": "code",
      "source": [
        "import numpy as np\n",
        "softmax_outputs= np.array([[0.7,0.2,0.1],[0.5,0.1,0.4],[0.02,0.9,0.08]])\n",
        "class_targets= np.array([0,1,1])\n",
        "predictions= np.argmax(softmax_outputs,axis=1)\n",
        "if len(class_targets.shape)==2:\n",
        "  class_targets= np.argmax(class_targets,axis=1)\n",
        "accuracy= np.mean(predictions==class_targets)\n",
        "print(\"Accuracy\",accuracy)"
      ],
      "metadata": {
        "colab": {
          "base_uri": "https://localhost:8080/"
        },
        "id": "PKiFjQPD4TYW",
        "outputId": "9a526b69-ecb7-4000-c16a-17c990a53a27"
      },
      "execution_count": null,
      "outputs": [
        {
          "output_type": "stream",
          "name": "stdout",
          "text": [
            "Accuracy 0.6666666666666666\n"
          ]
        }
      ]
    },
    {
      "cell_type": "code",
      "source": [
        "#backpropagation on a single neuron\n",
        "import numpy as np\n",
        "weights=np.array([-3.0,-1.0,2.0])\n",
        "bias=1.0\n",
        "inputs= np.array([1.0,-2.0,3.0])\n",
        "target_output= 0.0\n",
        "learning_rate= 0.001\n",
        "def relu(x):\n",
        "  return np.maximum(0,x)\n",
        "def relu_derivative(x):\n",
        "  return np.where(x>0,1.0,0.0)\n",
        "for iteration in range(200):\n",
        "  linear_output= np.dot(weights,inputs)+bias\n",
        "  output= relu(linear_output)\n",
        "  loss= (output-target_output)**2\n",
        "\n",
        "  #backward pass\n",
        "  dloss_doutput= 2*(output-target_output)\n",
        "  doutput_dlinear= relu_derivative(linear_output)\n",
        "  dlinear_dweights= inputs\n",
        "  dlinear_dbias=1.0\n",
        "\n",
        "  dloss_dlinear= dloss_doutput*doutput_dlinear\n",
        "  dloss_dweights= dloss_dlinear*dlinear_dweights\n",
        "  dloss_dbias= dloss_dweights*dlinear_dbias\n",
        "\n",
        "  weights-=learning_rate*dloss_dweights\n",
        "  bias-=learning_rate*dloss_dbias\n",
        "  print(f\"Iteration {iteration+1}, Loss: {loss}\")\n",
        "\n",
        "print(\"Final weights:\",weights)\n",
        "print(\"Final bias:\",bias)"
      ],
      "metadata": {
        "colab": {
          "base_uri": "https://localhost:8080/"
        },
        "id": "yEhiHbT9XtAx",
        "outputId": "d6e831fe-7bf3-44a6-c61e-f331851c55ff"
      },
      "execution_count": null,
      "outputs": [
        {
          "output_type": "stream",
          "name": "stdout",
          "text": [
            "Iteration 1, Loss: 36.0\n",
            "Iteration 2, Loss: [33.87239742 34.29273341 33.59361344]\n",
            "Iteration 3, Loss: [31.87216941 32.67960939 31.34217448]\n",
            "Iteration 4, Loss: [29.99158884 31.15514281 29.23589049]\n",
            "Iteration 5, Loss: [28.22342265 29.71419994 27.26560317]\n",
            "Iteration 6, Loss: [26.56086681 28.3519421  25.4227146 ]\n",
            "Iteration 7, Loss: [24.99753693 27.06382479 23.6991692 ]\n",
            "Iteration 8, Loss: [23.52743898 25.84557626 22.0874164 ]\n",
            "Iteration 9, Loss: [22.14493989 24.69317521 20.58037392]\n",
            "Iteration 10, Loss: [20.844758   23.60284876 19.17141085]\n",
            "Iteration 11, Loss: [19.621923   22.57103781 17.8543016 ]\n",
            "Iteration 12, Loss: [18.4717753  21.59440359 16.6232185 ]\n",
            "Iteration 13, Loss: [17.38993545 20.66980202 15.47269584]\n",
            "Iteration 14, Loss: [16.37229017 19.79427534 14.39761051]\n",
            "Iteration 15, Loss: [15.41497895 18.96504391 13.39316326]\n",
            "Iteration 16, Loss: [14.51437558 18.17949224 12.4548557 ]\n",
            "Iteration 17, Loss: [13.66706939 17.43515409 11.57846752]\n",
            "Iteration 18, Loss: [12.86986354 16.72971619 10.76004972]\n",
            "Iteration 19, Loss: [12.11975046 16.06099623  9.99589715]\n",
            "Iteration 20, Loss: [11.41390786 15.42694343  9.28254019]\n",
            "Iteration 21, Loss: [10.74968465 14.82562759  8.61672756]\n",
            "Iteration 22, Loss: [10.12458657 14.25522713  7.99540921]\n",
            "Iteration 23, Loss: [ 9.5362734  13.7140305   7.41572984]\n",
            "Iteration 24, Loss: [ 8.98254984 13.20043005  6.87501694]\n",
            "Iteration 25, Loss: [ 8.4613472  12.71290443  6.37076097]\n",
            "Iteration 26, Loss: [ 7.97072608 12.25002587  5.90061447]\n",
            "Iteration 27, Loss: [ 7.50886142 11.81044601  5.46237563]\n",
            "Iteration 28, Loss: [ 7.07404192 11.39289901  5.05398477]\n",
            "Iteration 29, Loss: [ 6.66465699 10.99618907  4.6735102 ]\n",
            "Iteration 30, Loss: [ 6.27919368 10.61918995  4.31914278]\n",
            "Iteration 31, Loss: [ 5.91623099 10.26084125  3.98918854]\n",
            "Iteration 32, Loss: [5.57443285 9.92014265 3.68206024]\n",
            "Iteration 33, Loss: [5.25254394 9.59615153 3.39627148]\n",
            "Iteration 34, Loss: [4.94938441 9.28797917 3.13043015]\n",
            "Iteration 35, Loss: [4.6638462  8.99478863 2.88323315]\n",
            "Iteration 36, Loss: [4.39488628 8.71578858 2.653459  ]\n",
            "Iteration 37, Loss: [4.14152506 8.45023367 2.43996455]\n",
            "Iteration 38, Loss: [3.90284269 8.19742214 2.24168013]\n",
            "Iteration 39, Loss: [3.67797284 7.95668953 2.05760299]\n",
            "Iteration 40, Loss: [3.466102   7.72741012 1.88679505]\n",
            "Iteration 41, Loss: [3.26646551 7.50899357 1.72837822]\n",
            "Iteration 42, Loss: [3.07834398 7.3008819  1.58153017]\n",
            "Iteration 43, Loss: [2.90106115 7.1025484  1.44548128]\n",
            "Iteration 44, Loss: [2.73398159 6.91349644 1.31951156]\n",
            "Iteration 45, Loss: [2.57650743 6.73325634 1.20294692]\n",
            "Iteration 46, Loss: [2.42807661 6.56138468 1.09515666]\n",
            "Iteration 47, Loss: [2.28816031 6.39746206 0.99555045]\n",
            "Iteration 48, Loss: [2.15626175 6.2410931  0.90357636]\n",
            "Iteration 49, Loss: [2.03191303 6.0919029  0.81871757]\n",
            "Iteration 50, Loss: [1.91467467 5.94953808 0.74049103]\n",
            "Iteration 51, Loss: [1.80413297 5.81366397 0.66844472]\n",
            "Iteration 52, Loss: [1.69989879 5.68396403 0.60215588]\n",
            "Iteration 53, Loss: [1.60160642 5.56013951 0.5412294 ]\n",
            "Iteration 54, Loss: [1.50891107 5.44190636 0.48529539]\n",
            "Iteration 55, Loss: [1.42148918 5.3289973  0.43400851]\n",
            "Iteration 56, Loss: [1.33903599 5.2211587  0.38704574]\n",
            "Iteration 57, Loss: [1.26126453 5.11815008 0.34410504]\n",
            "Iteration 58, Loss: [1.18790495 5.01974399 0.30490424]\n",
            "Iteration 59, Loss: [1.11870351 4.92572546 0.26917976]\n",
            "Iteration 60, Loss: [1.05342102 4.83588996 0.23668515]\n",
            "Iteration 61, Loss: [0.9918327  4.75004443 0.20719035]\n",
            "Iteration 62, Loss: [0.9337268  4.66800543 0.18048037]\n",
            "Iteration 63, Loss: [0.87890403 4.58959915 0.15635448]\n",
            "Iteration 64, Loss: [0.82717691 4.51466099 0.13462529]\n",
            "Iteration 65, Loss: [0.7783687  4.4430343  0.11511777]\n",
            "Iteration 66, Loss: [0.73231325 4.37457099 0.09766864]\n",
            "Iteration 67, Loss: [0.68885398 4.30913019 0.08212549]\n",
            "Iteration 68, Loss: [0.64784352 4.24657834 0.06834614]\n",
            "Iteration 69, Loss: [0.60914308 4.18678856 0.05619794]\n",
            "Iteration 70, Loss: [0.57262193 4.12964028 0.04555719]\n",
            "Iteration 71, Loss: [0.53815698 4.07501909 0.03630857]\n",
            "Iteration 72, Loss: [0.5056323  4.02281619 0.02834455]\n",
            "Iteration 73, Loss: [0.47493865 3.97292813 0.02156494]\n",
            "Iteration 74, Loss: [0.44597318 3.92525664 0.0158764 ]\n",
            "Iteration 75, Loss: [0.41863896 3.87970819 0.01119197]\n",
            "Iteration 76, Loss: [0.39284467 3.83619384 0.00743069]\n",
            "Iteration 77, Loss: [0.36850428 3.79462896 0.0045172 ]\n",
            "Iteration 78, Loss: [3.45536735e-01 3.75493298e+00 2.38135745e-03]\n",
            "Iteration 79, Loss: [3.23865622e-01 3.71702918e+00 9.57915253e-04]\n",
            "Iteration 80, Loss: [3.03418950e-01 3.68084455e+00 1.86200672e-04]\n",
            "Iteration 81, Loss: [0.28412887 3.6463095  0.        ]\n",
            "Iteration 82, Loss: [0.26587326 3.61314337 0.        ]\n",
            "Iteration 83, Loss: [0.24836256 3.58039231 0.        ]\n",
            "Iteration 84, Loss: [0.23158124 3.54805056 0.        ]\n",
            "Iteration 85, Loss: [0.21551409 3.51611253 0.        ]\n",
            "Iteration 86, Loss: [0.20014616 3.48457269 0.        ]\n",
            "Iteration 87, Loss: [0.18546274 3.45342551 0.        ]\n",
            "Iteration 88, Loss: [0.17144943 3.42266569 0.        ]\n",
            "Iteration 89, Loss: [0.15809205 3.39228792 0.        ]\n",
            "Iteration 90, Loss: [0.14537669 3.362287   0.        ]\n",
            "Iteration 91, Loss: [0.13328968 3.33265773 0.        ]\n",
            "Iteration 92, Loss: [0.1218176  3.30339501 0.        ]\n",
            "Iteration 93, Loss: [0.11094727 3.27449386 0.        ]\n",
            "Iteration 94, Loss: [0.10066576 3.24594945 0.        ]\n",
            "Iteration 95, Loss: [0.09096037 3.21775688 0.        ]\n",
            "Iteration 96, Loss: [0.08181858 3.18991122 0.        ]\n",
            "Iteration 97, Loss: [0.07322818 3.16240798 0.        ]\n",
            "Iteration 98, Loss: [0.06517713 3.13524243 0.        ]\n",
            "Iteration 99, Loss: [0.05765359 3.10840997 0.        ]\n",
            "Iteration 100, Loss: [0.05064598 3.08190607 0.        ]\n",
            "Iteration 101, Loss: [0.04414292 3.05572641 0.        ]\n",
            "Iteration 102, Loss: [0.03813321 3.02986646 0.        ]\n",
            "Iteration 103, Loss: [0.03260586 3.00432189 0.        ]\n",
            "Iteration 104, Loss: [0.02755011 2.97908864 0.        ]\n",
            "Iteration 105, Loss: [0.02295537 2.95416229 0.        ]\n",
            "Iteration 106, Loss: [0.01881125 2.92953886 0.        ]\n",
            "Iteration 107, Loss: [0.01510755 2.90521431 0.        ]\n",
            "Iteration 108, Loss: [0.01183426 2.88118453 0.        ]\n",
            "Iteration 109, Loss: [0.00898155 2.85744556 0.        ]\n",
            "Iteration 110, Loss: [0.00653975 2.83399339 0.        ]\n",
            "Iteration 111, Loss: [0.00449941 2.81082442 0.        ]\n",
            "Iteration 112, Loss: [0.00285124 2.78793491 0.        ]\n",
            "Iteration 113, Loss: [1.58608439e-03 2.76532075e+00 0.00000000e+00]\n",
            "Iteration 114, Loss: [6.95007387e-04 2.74297867e+00 0.00000000e+00]\n",
            "Iteration 115, Loss: [1.69208069e-04 2.72090481e+00 0.00000000e+00]\n",
            "Iteration 116, Loss: [0.        2.6990956 0.       ]\n",
            "Iteration 117, Loss: [0.         2.67754588 0.        ]\n",
            "Iteration 118, Loss: [0.        2.6561684 0.       ]\n",
            "Iteration 119, Loss: [0.         2.63496151 0.        ]\n",
            "Iteration 120, Loss: [0.         2.61392413 0.        ]\n",
            "Iteration 121, Loss: [0.         2.59305443 0.        ]\n",
            "Iteration 122, Loss: [0.         2.57235155 0.        ]\n",
            "Iteration 123, Loss: [0.         2.55181385 0.        ]\n",
            "Iteration 124, Loss: [0.         2.53144012 0.        ]\n",
            "Iteration 125, Loss: [0.         2.51122913 0.        ]\n",
            "Iteration 126, Loss: [0.         2.49117946 0.        ]\n",
            "Iteration 127, Loss: [0.         2.47128991 0.        ]\n",
            "Iteration 128, Loss: [0.         2.45155909 0.        ]\n",
            "Iteration 129, Loss: [0.       2.431986 0.      ]\n",
            "Iteration 130, Loss: [0.         2.41256887 0.        ]\n",
            "Iteration 131, Loss: [0.         2.39330692 0.        ]\n",
            "Iteration 132, Loss: [0.         2.37419877 0.        ]\n",
            "Iteration 133, Loss: [0.         2.35524326 0.        ]\n",
            "Iteration 134, Loss: [0.         2.33643905 0.        ]\n",
            "Iteration 135, Loss: [0.         2.31778481 0.        ]\n",
            "Iteration 136, Loss: [0.         2.29927956 0.        ]\n",
            "Iteration 137, Loss: [0.         2.28092218 0.        ]\n",
            "Iteration 138, Loss: [0.         2.26271136 0.        ]\n",
            "Iteration 139, Loss: [0.         2.24464578 0.        ]\n",
            "Iteration 140, Loss: [0.         2.22672451 0.        ]\n",
            "Iteration 141, Loss: [0.         2.20894644 0.        ]\n",
            "Iteration 142, Loss: [0.         2.19131011 0.        ]\n",
            "Iteration 143, Loss: [0.         2.17381478 0.        ]\n",
            "Iteration 144, Loss: [0.       2.156459 0.      ]\n",
            "Iteration 145, Loss: [0.         2.13924187 0.        ]\n",
            "Iteration 146, Loss: [0.         2.12216213 0.        ]\n",
            "Iteration 147, Loss: [0.         2.10521872 0.        ]\n",
            "Iteration 148, Loss: [0.         2.08841074 0.        ]\n",
            "Iteration 149, Loss: [0.         2.07173696 0.        ]\n",
            "Iteration 150, Loss: [0.         2.05519598 0.        ]\n",
            "Iteration 151, Loss: [0.         2.03878729 0.        ]\n",
            "Iteration 152, Loss: [0.         2.02250966 0.        ]\n",
            "Iteration 153, Loss: [0.         2.00636189 0.        ]\n",
            "Iteration 154, Loss: [0.         1.99034312 0.        ]\n",
            "Iteration 155, Loss: [0.         1.97445218 0.        ]\n",
            "Iteration 156, Loss: [0.         1.95868821 0.        ]\n",
            "Iteration 157, Loss: [0.         1.94305003 0.        ]\n",
            "Iteration 158, Loss: [0.         1.92753681 0.        ]\n",
            "Iteration 159, Loss: [0.         1.91214739 0.        ]\n",
            "Iteration 160, Loss: [0.         1.89688094 0.        ]\n",
            "Iteration 161, Loss: [0.         1.88173599 0.        ]\n",
            "Iteration 162, Loss: [0.         1.86671238 0.        ]\n",
            "Iteration 163, Loss: [0.         1.85180864 0.        ]\n",
            "Iteration 164, Loss: [0.         1.83702365 0.        ]\n",
            "Iteration 165, Loss: [0.         1.82235692 0.        ]\n",
            "Iteration 166, Loss: [0.         1.80780704 0.        ]\n",
            "Iteration 167, Loss: [0.         1.79337352 0.        ]\n",
            "Iteration 168, Loss: [0.         1.77905526 0.        ]\n",
            "Iteration 169, Loss: [0.         1.76485148 0.        ]\n",
            "Iteration 170, Loss: [0.         1.75076078 0.        ]\n",
            "Iteration 171, Loss: [0.         1.73678269 0.        ]\n",
            "Iteration 172, Loss: [0.         1.72291616 0.        ]\n",
            "Iteration 173, Loss: [0.        1.7091604 0.       ]\n",
            "Iteration 174, Loss: [0.         1.69551468 0.        ]\n",
            "Iteration 175, Loss: [0.         1.68197761 0.        ]\n",
            "Iteration 176, Loss: [0.         1.66854877 0.        ]\n",
            "Iteration 177, Loss: [0.         1.65522679 0.        ]\n",
            "Iteration 178, Loss: [0.         1.64201156 0.        ]\n",
            "Iteration 179, Loss: [0.         1.62890173 0.        ]\n",
            "Iteration 180, Loss: [0.         1.61589657 0.        ]\n",
            "Iteration 181, Loss: [0.         1.60299537 0.        ]\n",
            "Iteration 182, Loss: [0.         1.59019711 0.        ]\n",
            "Iteration 183, Loss: [0.         1.57750077 0.        ]\n",
            "Iteration 184, Loss: [0.         1.56490624 0.        ]\n",
            "Iteration 185, Loss: [0.         1.55241192 0.        ]\n",
            "Iteration 186, Loss: [0.         1.54001742 0.        ]\n",
            "Iteration 187, Loss: [0.         1.52772203 0.        ]\n",
            "Iteration 188, Loss: [0.         1.51552448 0.        ]\n",
            "Iteration 189, Loss: [0.         1.50342467 0.        ]\n",
            "Iteration 190, Loss: [0.         1.49142133 0.        ]\n",
            "Iteration 191, Loss: [0.         1.47951378 0.        ]\n",
            "Iteration 192, Loss: [0.         1.46770136 0.        ]\n",
            "Iteration 193, Loss: [0.        1.4559831 0.       ]\n",
            "Iteration 194, Loss: [0.         1.44435862 0.        ]\n",
            "Iteration 195, Loss: [0.         1.43282698 0.        ]\n",
            "Iteration 196, Loss: [0.         1.42138724 0.        ]\n",
            "Iteration 197, Loss: [0.         1.41003874 0.        ]\n",
            "Iteration 198, Loss: [0.         1.39878112 0.        ]\n",
            "Iteration 199, Loss: [0.         1.38761317 0.        ]\n",
            "Iteration 200, Loss: [0.         1.37653453 0.        ]\n",
            "Final weights: [-3.3867974   0.7306626   1.09534168]\n",
            "Final bias: [0.6132026  2.7306626  0.09534168]\n"
          ]
        }
      ]
    },
    {
      "cell_type": "code",
      "source": [
        "#backpropagation layer\n",
        "import numpy as np\n",
        "inputs= np.array([1,2,3,4])\n",
        "weights= np.array([[0.1,0.2,0.3,0.4],[0.5,0.6,0.7,0.8],[0.9,1.0,1.1,1.2]])\n",
        "biases= np.array([0.1,0.2,0.3])\n",
        "learning_rate= 0.001\n",
        "def relu(x):\n",
        "  return np.maximum(0,x)\n",
        "\n",
        "def relu_derivative(x):\n",
        "  return np.where(x>0,1,0)\n",
        "\n",
        "for iteration in range(200):\n",
        "  z= np.dot(weights,inputs)+biases\n",
        "  a= relu(z)\n",
        "  y= np.sum(a)\n",
        "  loss= y**2\n",
        "\n",
        "  dL_dy= 2*y\n",
        "  dy_da= np.ones_like(a)\n",
        "  dL_da= dL_dy*dy_da\n",
        "  da_dz= relu_derivative(z)\n",
        "  dL_dz= dL_da*da_dz\n",
        "  dL_dW=np.outer(dL_dz,inputs)\n",
        "  dL_db= dL_dz\n",
        "\n",
        "  weights-=learning_rate*dL_dW\n",
        "  biases-=learning_rate*dL_db\n",
        "\n",
        "  if iteration%20==0:\n",
        "    print(f\"Iteration {iteration}, Loss: {loss}\")\n",
        "print(\"Final weights\",weights)\n",
        "print(\"Final biases\",biases)\n"
      ],
      "metadata": {
        "id": "SoCJJenCaRpA",
        "colab": {
          "base_uri": "https://localhost:8080/"
        },
        "outputId": "d311ee23-f321-471a-c8cf-63e7c8686036"
      },
      "execution_count": null,
      "outputs": [
        {
          "output_type": "stream",
          "name": "stdout",
          "text": [
            "Iteration 0, Loss: 466.56000000000006\n",
            "Iteration 20, Loss: 5.329595763793193\n",
            "Iteration 40, Loss: 0.41191524253483786\n",
            "Iteration 60, Loss: 0.03183621475376345\n",
            "Iteration 80, Loss: 0.002460565405431671\n",
            "Iteration 100, Loss: 0.0001901729121621426\n",
            "Iteration 120, Loss: 1.4698120139337557e-05\n",
            "Iteration 140, Loss: 1.1359948840900371e-06\n",
            "Iteration 160, Loss: 8.779778427447647e-08\n",
            "Iteration 180, Loss: 6.785903626216421e-09\n",
            "Final weights [[-0.00698895 -0.0139779  -0.02096685 -0.0279558 ]\n",
            " [ 0.25975286  0.11950571 -0.02074143 -0.16098857]\n",
            " [ 0.53548461  0.27096922  0.00645383 -0.25806156]]\n",
            "Final biases [-0.00698895 -0.04024714 -0.06451539]\n"
          ]
        }
      ]
    },
    {
      "cell_type": "code",
      "source": [
        "import numpy as np\n",
        "dvalues= np.array([[1.,1.,1.],[2.,2.,2.],[3.,3.,3.]])\n",
        "inputs= np.array([[1,2,3,2.5],[2.,5.,-1.,2],[-1.5,2.7,3.3,-0.8]])\n",
        "dweights= np.dot(inputs.T,dvalues)\n",
        "print(dweights)"
      ],
      "metadata": {
        "colab": {
          "base_uri": "https://localhost:8080/"
        },
        "id": "cGQ5c-pFcumk",
        "outputId": "a85b4a95-ddce-403f-c45d-56583c1ae19f"
      },
      "execution_count": null,
      "outputs": [
        {
          "output_type": "stream",
          "name": "stdout",
          "text": [
            "[[ 0.5  0.5  0.5]\n",
            " [20.1 20.1 20.1]\n",
            " [10.9 10.9 10.9]\n",
            " [ 4.1  4.1  4.1]]\n"
          ]
        }
      ]
    },
    {
      "cell_type": "code",
      "source": [
        "import numpy as np\n",
        "dvalues= np.array([[1.,1.,1.],[2.,2.,2.],[3.,3.,3.]])\n",
        "biases= np.array([[2,3,0.5]])\n",
        "dbiases= np.sum(dvalues,axis=0,keepdims=True)\n",
        "print(dbiases)"
      ],
      "metadata": {
        "colab": {
          "base_uri": "https://localhost:8080/"
        },
        "id": "cWl5PqqAcup0",
        "outputId": "08a55926-9baa-493a-d45b-e4c883638c08"
      },
      "execution_count": null,
      "outputs": [
        {
          "output_type": "stream",
          "name": "stdout",
          "text": [
            "[[6. 6. 6.]]\n"
          ]
        }
      ]
    },
    {
      "cell_type": "code",
      "source": [
        "import numpy as np\n",
        "dvalues= np.array([[1,1,1],[2,2,2],[3,3,3]])\n",
        "weights=np.array([[0.2,0.8,-0.5,1],[0.5,-0.91,0.26,-0.5],[-0.26,-0.27,0.17,0.87]]).T\n",
        "dinputs= np.dot(dvalues,weights.T)\n",
        "print(dinputs)"
      ],
      "metadata": {
        "colab": {
          "base_uri": "https://localhost:8080/"
        },
        "id": "vhJk6FrqcutU",
        "outputId": "c03e4e9e-4d88-42e7-b91b-024af4cea9b6"
      },
      "execution_count": null,
      "outputs": [
        {
          "output_type": "stream",
          "name": "stdout",
          "text": [
            "[[ 0.44 -0.38 -0.07  1.37]\n",
            " [ 0.88 -0.76 -0.14  2.74]\n",
            " [ 1.32 -1.14 -0.21  4.11]]\n"
          ]
        }
      ]
    },
    {
      "cell_type": "code",
      "source": [
        "# combined softmax and categorical cross entropy (#3)\n",
        "class Activation_Softmax_Loss_CategoricalCrossentropy:\n",
        "  def __init__(self):\n",
        "    self.activation= Activation_Softmax()\n",
        "    self.loss= Loss_CategoricalCrossentropy()\n",
        "\n",
        "  def forward(self,inputs,y_true):\n",
        "    self.activation.forward(inputs)\n",
        "    self.output= self.activation.output\n",
        "    return self.loss.calculate(self.output,y_true)\n",
        "\n",
        "  def backward(self,dvalues,y_true):\n",
        "    samples= len(dvalues)\n",
        "    if len(y_true.shape)==2:\n",
        "      y_true= np.argmax(y_true,axis=1)\n",
        "    self.dinputs=dvalues.copy()\n",
        "    self.dinputs[range(samples),y_true]-=1\n",
        "    self.dinputs= self.dinputs/samples"
      ],
      "metadata": {
        "id": "ypFvokMOcuwn"
      },
      "execution_count": null,
      "outputs": []
    },
    {
      "cell_type": "code",
      "source": [
        "softmax_outputs= np.array([[0.7,0.1,0.2],[0.1,0.5,0.4],[0.02,0.9,0.08]])\n",
        "class_targets= np.array([0,1,1])\n",
        "softmax_loss= Activation_Softmax_Loss_CategoricalCrossentropy()\n",
        "softmax_loss.backward(softmax_outputs,class_targets)\n",
        "dvalues1 = softmax_loss.dinputs\n",
        "print(\"Gradient combined loss and activation\")\n",
        "print(dvalues1)"
      ],
      "metadata": {
        "id": "u6c16Lxqcuzw",
        "colab": {
          "base_uri": "https://localhost:8080/"
        },
        "outputId": "4cdb2777-9449-42ab-b131-5a25f82695ce"
      },
      "execution_count": null,
      "outputs": [
        {
          "output_type": "stream",
          "name": "stdout",
          "text": [
            "Gradient combined loss and activation\n",
            "[[-0.1         0.03333333  0.06666667]\n",
            " [ 0.03333333 -0.16666667  0.13333333]\n",
            " [ 0.00666667 -0.03333333  0.02666667]]\n"
          ]
        }
      ]
    },
    {
      "cell_type": "code",
      "source": [
        "#2\n",
        "class Activation_ReLU:\n",
        "  def forward(self,inputs):\n",
        "    self.inputs= inputs\n",
        "    self.output= np.maximum(0,inputs)\n",
        "\n",
        "  def backward(self,dvalues):\n",
        "    self.dinputs= dvalues.copy()\n",
        "    self.dinputs[self.inputs<=0]=0"
      ],
      "metadata": {
        "id": "vqCi-MLXcu2q"
      },
      "execution_count": null,
      "outputs": []
    },
    {
      "cell_type": "code",
      "source": [
        "#1\n",
        "class Layer_Dense:\n",
        "  def __init__(self,n_inputs,n_neurons):\n",
        "    self.weights= 0.01*np.random.randn(n_inputs,n_neurons)\n",
        "    self.biases= np.zeros((1,n_neurons))\n",
        "\n",
        "  def forward(self,inputs):\n",
        "    self.inputs= inputs\n",
        "    self.output= np.dot(inputs,self.weights)+self.biases\n",
        "\n",
        "  def backward(self,dvalues):\n",
        "    self.dweights= np.dot(self.inputs.T,dvalues)\n",
        "    self.dbiases= np.sum(dvalues,axis=0,keepdims=True)\n",
        "    self.dinputs= np.dot(dvalues,self.weights.T)"
      ],
      "metadata": {
        "id": "SY_Yfl5gcu5b"
      },
      "execution_count": null,
      "outputs": []
    },
    {
      "cell_type": "code",
      "source": [
        "from nnfs.datasets import spiral_data\n",
        "import numpy as np\n",
        "import nnfs\n",
        "nnfs.init()\n",
        "import matplotlib.pyplot as plt\n",
        "X, y = spiral_data(samples=100, classes=3)\n",
        "plt.scatter(X[:, 0], X[:, 1], c=y, cmap='brg')\n",
        "plt.show()"
      ],
      "metadata": {
        "id": "Nn9qDiPWcu9C",
        "colab": {
          "base_uri": "https://localhost:8080/",
          "height": 430
        },
        "outputId": "a01f29be-ea57-47d5-ea67-e5d1d15c8d58"
      },
      "execution_count": null,
      "outputs": [
        {
          "output_type": "display_data",
          "data": {
            "text/plain": [
              "<Figure size 640x480 with 1 Axes>"
            ],
            "image/png": "[encoded data removed]"
          },
          "metadata": {}
        }
      ]
    },
    {
      "cell_type": "code",
      "source": [
        "dense1= Layer_Dense(2,3)\n",
        "activation1= Activation_ReLU()\n",
        "dense2= Layer_Dense(3,3)\n",
        "loss_Activation= Activation_Softmax_Loss_CategoricalCrossentropy()\n",
        "dense1.forward(X)\n",
        "activation1.forward(dense1.output)\n",
        "dense2.forward(activation1.output)\n",
        "loss= loss_Activation.forward(dense2.output,y)\n",
        "print(loss_Activation.output[:5])\n",
        "print(\"loss:\",loss)\n",
        "predictions= np.argmax(loss_Activation.output,axis=1)\n",
        "if len(y.shape)==2:\n",
        "  y= np.argmax(y,axis=1)\n",
        "accuracy= np.mean(y==predictions)\n",
        "print(\"Accuracy:\",accuracy)\n",
        "loss_Activation.backward(loss_Activation.output,y)\n",
        "dense2.backward(loss_Activation.dinputs)\n",
        "activation1.backward(dense2.dinputs)\n",
        "print(dense1.weights)\n",
        "print(dense1.biases)\n",
        "print(dense2.weights)\n",
        "print(dense2.biases)"
      ],
      "metadata": {
        "colab": {
          "base_uri": "https://localhost:8080/"
        },
        "id": "0qyqrvsybUOI",
        "outputId": "1750def9-a275-4781-d37f-21cdfe98568c"
      },
      "execution_count": null,
      "outputs": [
        {
          "output_type": "stream",
          "name": "stdout",
          "text": [
            "[[0.33333334 0.33333334 0.33333334]\n",
            " [0.3333332  0.3333332  0.33333364]\n",
            " [0.3333329  0.33333293 0.3333342 ]\n",
            " [0.3333326  0.33333263 0.33333477]\n",
            " [0.33333233 0.3333324  0.33333528]]\n",
            "loss: 1.0986104\n",
            "Accuracy: 0.34\n",
            "[[-0.01306527  0.01658131 -0.00118164]\n",
            " [-0.00680178  0.00666383 -0.0046072 ]]\n",
            "[[0. 0. 0.]]\n",
            "[[-0.01334258 -0.01346717  0.00693773]\n",
            " [-0.00159573 -0.00133702  0.01077744]\n",
            " [-0.01126826 -0.00730678 -0.0038488 ]]\n",
            "[[0. 0. 0.]]\n"
          ]
        }
      ]
    },
    {
      "cell_type": "code",
      "source": [
        "# learning rate decay\n",
        "class Optimizer_SGD:\n",
        "  def __init__(self,learning_rate=1.,decay=0.):\n",
        "    self.learning_rate= learning_rate\n",
        "    self.current_learning_rate= learning_rate\n",
        "    self.decay= decay\n",
        "    self.iterations=0\n",
        "\n",
        "  def pre_update_params(self):\n",
        "    if self.decay:\n",
        "      self.current_learning_rate= self.learning_rate * \\\n",
        "      (1./(1.+self.decay*self.iterations))\n",
        "\n",
        "  def update_params(self,layer):\n",
        "    layer.weights+=-self.current_learning_rate*layer.dweights\n",
        "    layer.biases+=-self.current_learning_rate*layer.dbiases\n",
        "\n",
        "  def post_update_params(self):\n",
        "    self.iterations+=1"
      ],
      "metadata": {
        "id": "enlnwp8MbURO"
      },
      "execution_count": null,
      "outputs": []
    },
    {
      "cell_type": "code",
      "source": [
        "import numpy as np\n",
        "X,y = spiral_data(samples=100,classes=3)\n",
        "dense1= Layer_Dense(2,64)\n",
        "activation1= Activation_ReLU()\n",
        "dense2= Layer_Dense(64,3)\n",
        "loss_Activation= Activation_Softmax_Loss_CategoricalCrossentropy()\n",
        "optimizer= Optimizer_SGD(decay=1e-3)\n",
        "for epoch in range(10001):\n",
        "  dense1.forward(X)\n",
        "  activation1.forward(dense1.output)\n",
        "  dense2.forward(activation1.output)\n",
        "  loss= loss_Activation.forward(dense2.output,y)\n",
        "  predictions= np.argmax(loss_Activation.output,axis=1)\n",
        "  if len(y.shape)==2:\n",
        "    y= np.argmax(y,axis=1)\n",
        "  accuracy= np.mean(predictions==y)\n",
        "\n",
        "  if not epoch%100:\n",
        "     print(f'epoch: {epoch}, ' +\n",
        "              f'acc: {accuracy:.3f}, ' +\n",
        "              f'loss: {loss:.3f}, ' +\n",
        "              f'lr: {optimizer.current_learning_rate}')\n",
        "\n",
        "  loss_Activation.backward(loss_Activation.output,y)\n",
        "  dense2.backward(loss_Activation.dinputs)\n",
        "  activation1.backward(dense2.dinputs)\n",
        "  dense1.backward(activation1.dinputs)\n",
        "\n",
        "  optimizer.pre_update_params()\n",
        "  optimizer.update_params(dense1)\n",
        "  optimizer.update_params(dense2)\n",
        "  optimizer.post_update_params()\n"
      ],
      "metadata": {
        "id": "iv6-IKLcbUUW",
        "colab": {
          "base_uri": "https://localhost:8080/"
        },
        "outputId": "f80c6205-8868-4a74-db19-54ab318963f2"
      },
      "execution_count": null,
      "outputs": [
        {
          "output_type": "stream",
          "name": "stdout",
          "text": [
            "epoch: 0, acc: 0.347, loss: 1.099, lr: 1.0\n",
            "epoch: 100, acc: 0.403, loss: 1.071, lr: 0.9099181073703367\n",
            "epoch: 200, acc: 0.417, loss: 1.064, lr: 0.8340283569641367\n",
            "epoch: 300, acc: 0.417, loss: 1.062, lr: 0.7698229407236336\n",
            "epoch: 400, acc: 0.417, loss: 1.060, lr: 0.7147962830593281\n",
            "epoch: 500, acc: 0.420, loss: 1.058, lr: 0.66711140760507\n",
            "epoch: 600, acc: 0.423, loss: 1.057, lr: 0.6253908692933083\n",
            "epoch: 700, acc: 0.420, loss: 1.055, lr: 0.5885815185403178\n",
            "epoch: 800, acc: 0.423, loss: 1.053, lr: 0.5558643690939411\n",
            "epoch: 900, acc: 0.420, loss: 1.049, lr: 0.526592943654555\n",
            "epoch: 1000, acc: 0.437, loss: 1.044, lr: 0.5002501250625312\n",
            "epoch: 1100, acc: 0.440, loss: 1.038, lr: 0.4764173415912339\n",
            "epoch: 1200, acc: 0.453, loss: 1.031, lr: 0.45475216007276037\n",
            "epoch: 1300, acc: 0.473, loss: 1.024, lr: 0.43497172683775553\n",
            "epoch: 1400, acc: 0.497, loss: 1.017, lr: 0.4168403501458941\n",
            "epoch: 1500, acc: 0.500, loss: 1.011, lr: 0.4001600640256102\n",
            "epoch: 1600, acc: 0.510, loss: 1.005, lr: 0.3847633705271258\n",
            "epoch: 1700, acc: 0.500, loss: 1.000, lr: 0.3705075954057058\n",
            "epoch: 1800, acc: 0.510, loss: 0.994, lr: 0.35727045373347627\n",
            "epoch: 1900, acc: 0.523, loss: 0.990, lr: 0.3449465332873405\n",
            "epoch: 2000, acc: 0.517, loss: 0.985, lr: 0.33344448149383127\n",
            "epoch: 2100, acc: 0.543, loss: 0.979, lr: 0.32268473701193934\n",
            "epoch: 2200, acc: 0.540, loss: 0.974, lr: 0.31259768677711786\n",
            "epoch: 2300, acc: 0.540, loss: 0.969, lr: 0.3031221582297666\n",
            "epoch: 2400, acc: 0.543, loss: 0.964, lr: 0.29420417769932333\n",
            "epoch: 2500, acc: 0.550, loss: 0.959, lr: 0.2857959416976279\n",
            "epoch: 2600, acc: 0.547, loss: 0.955, lr: 0.2778549597110308\n",
            "epoch: 2700, acc: 0.553, loss: 0.951, lr: 0.2703433360367667\n",
            "epoch: 2800, acc: 0.553, loss: 0.946, lr: 0.26322716504343247\n",
            "epoch: 2900, acc: 0.563, loss: 0.942, lr: 0.25647601949217746\n",
            "epoch: 3000, acc: 0.557, loss: 0.938, lr: 0.25006251562890724\n",
            "epoch: 3100, acc: 0.557, loss: 0.934, lr: 0.2439619419370578\n",
            "epoch: 3200, acc: 0.557, loss: 0.930, lr: 0.23815194093831865\n",
            "epoch: 3300, acc: 0.560, loss: 0.927, lr: 0.23261223540358225\n",
            "epoch: 3400, acc: 0.560, loss: 0.924, lr: 0.22732439190725165\n",
            "epoch: 3500, acc: 0.537, loss: 0.926, lr: 0.22227161591464767\n",
            "epoch: 3600, acc: 0.540, loss: 0.922, lr: 0.21743857360295715\n",
            "epoch: 3700, acc: 0.560, loss: 0.916, lr: 0.21281123643328367\n",
            "epoch: 3800, acc: 0.557, loss: 0.915, lr: 0.20837674515524068\n",
            "epoch: 3900, acc: 0.547, loss: 0.913, lr: 0.20412329046744235\n",
            "epoch: 4000, acc: 0.543, loss: 0.908, lr: 0.2000400080016003\n",
            "epoch: 4100, acc: 0.550, loss: 0.904, lr: 0.19611688566385566\n",
            "epoch: 4200, acc: 0.550, loss: 0.900, lr: 0.19234468166955185\n",
            "epoch: 4300, acc: 0.553, loss: 0.896, lr: 0.18871485185884126\n",
            "epoch: 4400, acc: 0.547, loss: 0.892, lr: 0.18521948508983144\n",
            "epoch: 4500, acc: 0.547, loss: 0.886, lr: 0.18185124568103292\n",
            "epoch: 4600, acc: 0.550, loss: 0.881, lr: 0.1786033220217896\n",
            "epoch: 4700, acc: 0.557, loss: 0.876, lr: 0.1754693805930865\n",
            "epoch: 4800, acc: 0.560, loss: 0.871, lr: 0.17244352474564578\n",
            "epoch: 4900, acc: 0.563, loss: 0.865, lr: 0.16952025767079165\n",
            "epoch: 5000, acc: 0.563, loss: 0.858, lr: 0.16669444907484582\n",
            "epoch: 5100, acc: 0.567, loss: 0.854, lr: 0.16396130513198884\n",
            "epoch: 5200, acc: 0.577, loss: 0.849, lr: 0.16131634134537828\n",
            "epoch: 5300, acc: 0.577, loss: 0.843, lr: 0.15875535799333226\n",
            "epoch: 5400, acc: 0.577, loss: 0.838, lr: 0.1562744178777934\n",
            "epoch: 5500, acc: 0.580, loss: 0.832, lr: 0.15386982612709646\n",
            "epoch: 5600, acc: 0.587, loss: 0.826, lr: 0.15153811183512653\n",
            "epoch: 5700, acc: 0.587, loss: 0.821, lr: 0.14927601134497687\n",
            "epoch: 5800, acc: 0.590, loss: 0.816, lr: 0.14708045300779526\n",
            "epoch: 5900, acc: 0.593, loss: 0.811, lr: 0.14494854326714016\n",
            "epoch: 6000, acc: 0.600, loss: 0.806, lr: 0.1428775539362766\n",
            "epoch: 6100, acc: 0.610, loss: 0.801, lr: 0.1408649105507818\n",
            "epoch: 6200, acc: 0.617, loss: 0.796, lr: 0.13890818169190167\n",
            "epoch: 6300, acc: 0.620, loss: 0.790, lr: 0.13700506918755992\n",
            "epoch: 6400, acc: 0.627, loss: 0.785, lr: 0.13515339910798757\n",
            "epoch: 6500, acc: 0.627, loss: 0.781, lr: 0.13335111348179757\n",
            "epoch: 6600, acc: 0.623, loss: 0.777, lr: 0.13159626266614027\n",
            "epoch: 6700, acc: 0.627, loss: 0.772, lr: 0.12988699831146902\n",
            "epoch: 6800, acc: 0.630, loss: 0.767, lr: 0.12822156686754713\n",
            "epoch: 6900, acc: 0.640, loss: 0.761, lr: 0.126598303582732\n",
            "epoch: 7000, acc: 0.643, loss: 0.756, lr: 0.12501562695336915\n",
            "epoch: 7100, acc: 0.647, loss: 0.750, lr: 0.12347203358439313\n",
            "epoch: 7200, acc: 0.650, loss: 0.746, lr: 0.12196609342602757\n",
            "epoch: 7300, acc: 0.650, loss: 0.742, lr: 0.12049644535486204\n",
            "epoch: 7400, acc: 0.653, loss: 0.738, lr: 0.11906179307060363\n",
            "epoch: 7500, acc: 0.657, loss: 0.734, lr: 0.11766090128250381\n",
            "epoch: 7600, acc: 0.660, loss: 0.730, lr: 0.11629259216187929\n",
            "epoch: 7700, acc: 0.660, loss: 0.726, lr: 0.11495574203931487\n",
            "epoch: 7800, acc: 0.670, loss: 0.722, lr: 0.11364927832708263\n",
            "epoch: 7900, acc: 0.673, loss: 0.718, lr: 0.11237217664906168\n",
            "epoch: 8000, acc: 0.673, loss: 0.714, lr: 0.11112345816201799\n",
            "epoch: 8100, acc: 0.677, loss: 0.710, lr: 0.10990218705352237\n",
            "epoch: 8200, acc: 0.677, loss: 0.707, lr: 0.10870746820306555\n",
            "epoch: 8300, acc: 0.677, loss: 0.703, lr: 0.1075384449940854\n",
            "epoch: 8400, acc: 0.670, loss: 0.699, lr: 0.10639429726566654\n",
            "epoch: 8500, acc: 0.670, loss: 0.694, lr: 0.10527423939362038\n",
            "epoch: 8600, acc: 0.673, loss: 0.690, lr: 0.10417751849150952\n",
            "epoch: 8700, acc: 0.677, loss: 0.687, lr: 0.10310341272296113\n",
            "epoch: 8800, acc: 0.673, loss: 0.683, lr: 0.1020512297173181\n",
            "epoch: 8900, acc: 0.677, loss: 0.680, lr: 0.10102030508132134\n",
            "epoch: 9000, acc: 0.683, loss: 0.677, lr: 0.1000100010001\n",
            "epoch: 9100, acc: 0.690, loss: 0.673, lr: 0.09901970492127933\n",
            "epoch: 9200, acc: 0.693, loss: 0.670, lr: 0.09804882831650162\n",
            "epoch: 9300, acc: 0.693, loss: 0.668, lr: 0.09709680551509856\n",
            "epoch: 9400, acc: 0.700, loss: 0.665, lr: 0.09616309260505818\n",
            "epoch: 9500, acc: 0.697, loss: 0.663, lr: 0.09524716639679968\n",
            "epoch: 9600, acc: 0.710, loss: 0.659, lr: 0.09434852344560807\n",
            "epoch: 9700, acc: 0.710, loss: 0.657, lr: 0.09346667912889055\n",
            "epoch: 9800, acc: 0.713, loss: 0.654, lr: 0.09260116677470137\n",
            "epoch: 9900, acc: 0.723, loss: 0.652, lr: 0.09175153683824203\n",
            "epoch: 10000, acc: 0.727, loss: 0.650, lr: 0.09091735612328393\n"
          ]
        }
      ]
    },
    {
      "cell_type": "code",
      "source": [
        "#momentum\n",
        "import numpy as np\n",
        "class Optimizer_SGD:\n",
        "  def __init__(self,learning_rate=1.,decay=0.,momentum=0.):\n",
        "    self.learning_rate= learning_rate\n",
        "    self.current_learning_rate= learning_rate\n",
        "    self.decay= decay\n",
        "    self.momentum= momentum\n",
        "    self.iterations=0\n",
        "\n",
        "  def pre_update_params(self):\n",
        "    if self.decay:\n",
        "      self.current_learning_rate= self.learning_rate*(1/(1+self.decay*self.iterations))\n",
        "\n",
        "  def update_params(self,layer):\n",
        "    if self.momentum:\n",
        "      if not hasattr(layer,'weight_momentums'):\n",
        "        layer.weight_momentums= np.zeros_like(layer.weights)\n",
        "        layer.bias_momentums= np.zeros_like(layer.biases)\n",
        "      layer.weight_momentums= self.momentum*layer.weight_momentums-self.current_learning_rate*layer.dweights\n",
        "      layer.weights+=layer.weight_momentums\n",
        "\n",
        "      layer.bias_momentums= self.momentum*layer.bias_momentums-self.current_learning_rate*layer.dbiases\n",
        "      layer.biases+=layer.bias_momentums\n",
        "\n",
        "    else:\n",
        "        layer.weights+=-self.current_learning_rate*layer.dweights\n",
        "        layer.weights+=-self.current_learning_rate*layer.dbiases\n",
        "\n",
        "  def post_update_params(self):\n",
        "    self.iterations+=1"
      ],
      "metadata": {
        "id": "9cpWCQF5bUXg"
      },
      "execution_count": null,
      "outputs": []
    },
    {
      "cell_type": "code",
      "source": [
        "import numpy as np\n",
        "X,y = spiral_data(samples=100,classes=3)\n",
        "dense1= Layer_Dense(2,64)\n",
        "activation1= Activation_ReLU()\n",
        "dense2= Layer_Dense(64,3)\n",
        "loss_Activation= Activation_Softmax_Loss_CategoricalCrossentropy()\n",
        "optimizer= Optimizer_SGD(decay=1e-3, momentum=0.9)\n",
        "for epoch in range(10001):\n",
        "  dense1.forward(X)\n",
        "  activation1.forward(dense1.output)\n",
        "  dense2.forward(activation1.output)\n",
        "  loss= loss_Activation.forward(dense2.output,y)\n",
        "  predictions= np.argmax(loss_Activation.output,axis=1)\n",
        "  if len(y.shape)==2:\n",
        "    y= np.argmax(y,axis=1)\n",
        "  accuracy= np.mean(predictions==y)\n",
        "\n",
        "  if not epoch%100:\n",
        "     print(f'epoch: {epoch}, ' +\n",
        "              f'acc: {accuracy:.3f}, ' +\n",
        "              f'loss: {loss:.3f}, ' +\n",
        "              f'lr: {optimizer.current_learning_rate}')\n",
        "\n",
        "  loss_Activation.backward(loss_Activation.output,y)\n",
        "  dense2.backward(loss_Activation.dinputs)\n",
        "  activation1.backward(dense2.dinputs)\n",
        "  dense1.backward(activation1.dinputs)\n",
        "\n",
        "  optimizer.pre_update_params()\n",
        "  optimizer.update_params(dense1)\n",
        "  optimizer.update_params(dense2)\n",
        "  optimizer.post_update_params()\n"
      ],
      "metadata": {
        "colab": {
          "base_uri": "https://localhost:8080/"
        },
        "id": "o8ehjkkug3Ey",
        "outputId": "f72fe8dc-3410-44e9-cdfd-8b351d914a5d"
      },
      "execution_count": null,
      "outputs": [
        {
          "output_type": "stream",
          "name": "stdout",
          "text": [
            "epoch: 0, acc: 0.333, loss: 1.099, lr: 1.0\n",
            "epoch: 100, acc: 0.423, loss: 1.053, lr: 0.9099181073703367\n",
            "epoch: 200, acc: 0.410, loss: 0.996, lr: 0.8340283569641367\n",
            "epoch: 300, acc: 0.660, loss: 0.725, lr: 0.7698229407236336\n",
            "epoch: 400, acc: 0.777, loss: 0.548, lr: 0.7147962830593281\n",
            "epoch: 500, acc: 0.823, loss: 0.447, lr: 0.66711140760507\n",
            "epoch: 600, acc: 0.853, loss: 0.394, lr: 0.6253908692933083\n",
            "epoch: 700, acc: 0.857, loss: 0.354, lr: 0.5885815185403178\n",
            "epoch: 800, acc: 0.877, loss: 0.323, lr: 0.5558643690939411\n",
            "epoch: 900, acc: 0.880, loss: 0.302, lr: 0.526592943654555\n",
            "epoch: 1000, acc: 0.870, loss: 0.296, lr: 0.5002501250625312\n",
            "epoch: 1100, acc: 0.900, loss: 0.273, lr: 0.4764173415912339\n",
            "epoch: 1200, acc: 0.880, loss: 0.306, lr: 0.45475216007276037\n",
            "epoch: 1300, acc: 0.900, loss: 0.257, lr: 0.43497172683775553\n",
            "epoch: 1400, acc: 0.917, loss: 0.237, lr: 0.4168403501458941\n",
            "epoch: 1500, acc: 0.933, loss: 0.223, lr: 0.4001600640256102\n",
            "epoch: 1600, acc: 0.927, loss: 0.213, lr: 0.3847633705271258\n",
            "epoch: 1700, acc: 0.940, loss: 0.204, lr: 0.3705075954057058\n",
            "epoch: 1800, acc: 0.940, loss: 0.197, lr: 0.35727045373347627\n",
            "epoch: 1900, acc: 0.940, loss: 0.192, lr: 0.3449465332873405\n",
            "epoch: 2000, acc: 0.950, loss: 0.186, lr: 0.33344448149383127\n",
            "epoch: 2100, acc: 0.950, loss: 0.181, lr: 0.32268473701193934\n",
            "epoch: 2200, acc: 0.953, loss: 0.175, lr: 0.31259768677711786\n",
            "epoch: 2300, acc: 0.943, loss: 0.169, lr: 0.3031221582297666\n",
            "epoch: 2400, acc: 0.957, loss: 0.165, lr: 0.29420417769932333\n",
            "epoch: 2500, acc: 0.953, loss: 0.162, lr: 0.2857959416976279\n",
            "epoch: 2600, acc: 0.957, loss: 0.159, lr: 0.2778549597110308\n",
            "epoch: 2700, acc: 0.953, loss: 0.156, lr: 0.2703433360367667\n",
            "epoch: 2800, acc: 0.953, loss: 0.154, lr: 0.26322716504343247\n",
            "epoch: 2900, acc: 0.957, loss: 0.151, lr: 0.25647601949217746\n",
            "epoch: 3000, acc: 0.957, loss: 0.149, lr: 0.25006251562890724\n",
            "epoch: 3100, acc: 0.953, loss: 0.147, lr: 0.2439619419370578\n",
            "epoch: 3200, acc: 0.953, loss: 0.145, lr: 0.23815194093831865\n",
            "epoch: 3300, acc: 0.953, loss: 0.144, lr: 0.23261223540358225\n",
            "epoch: 3400, acc: 0.957, loss: 0.142, lr: 0.22732439190725165\n",
            "epoch: 3500, acc: 0.953, loss: 0.141, lr: 0.22227161591464767\n",
            "epoch: 3600, acc: 0.957, loss: 0.139, lr: 0.21743857360295715\n",
            "epoch: 3700, acc: 0.957, loss: 0.138, lr: 0.21281123643328367\n",
            "epoch: 3800, acc: 0.957, loss: 0.136, lr: 0.20837674515524068\n",
            "epoch: 3900, acc: 0.953, loss: 0.135, lr: 0.20412329046744235\n",
            "epoch: 4000, acc: 0.950, loss: 0.134, lr: 0.2000400080016003\n",
            "epoch: 4100, acc: 0.957, loss: 0.133, lr: 0.19611688566385566\n",
            "epoch: 4200, acc: 0.957, loss: 0.131, lr: 0.19234468166955185\n",
            "epoch: 4300, acc: 0.957, loss: 0.130, lr: 0.18871485185884126\n",
            "epoch: 4400, acc: 0.960, loss: 0.129, lr: 0.18521948508983144\n",
            "epoch: 4500, acc: 0.957, loss: 0.128, lr: 0.18185124568103292\n",
            "epoch: 4600, acc: 0.957, loss: 0.127, lr: 0.1786033220217896\n",
            "epoch: 4700, acc: 0.957, loss: 0.126, lr: 0.1754693805930865\n",
            "epoch: 4800, acc: 0.957, loss: 0.126, lr: 0.17244352474564578\n",
            "epoch: 4900, acc: 0.957, loss: 0.125, lr: 0.16952025767079165\n",
            "epoch: 5000, acc: 0.957, loss: 0.124, lr: 0.16669444907484582\n",
            "epoch: 5100, acc: 0.957, loss: 0.123, lr: 0.16396130513198884\n",
            "epoch: 5200, acc: 0.957, loss: 0.122, lr: 0.16131634134537828\n",
            "epoch: 5300, acc: 0.957, loss: 0.122, lr: 0.15875535799333226\n",
            "epoch: 5400, acc: 0.957, loss: 0.121, lr: 0.1562744178777934\n",
            "epoch: 5500, acc: 0.957, loss: 0.120, lr: 0.15386982612709646\n",
            "epoch: 5600, acc: 0.957, loss: 0.119, lr: 0.15153811183512653\n",
            "epoch: 5700, acc: 0.957, loss: 0.119, lr: 0.14927601134497687\n",
            "epoch: 5800, acc: 0.957, loss: 0.118, lr: 0.14708045300779526\n",
            "epoch: 5900, acc: 0.957, loss: 0.118, lr: 0.14494854326714016\n",
            "epoch: 6000, acc: 0.957, loss: 0.117, lr: 0.1428775539362766\n",
            "epoch: 6100, acc: 0.957, loss: 0.116, lr: 0.1408649105507818\n",
            "epoch: 6200, acc: 0.957, loss: 0.116, lr: 0.13890818169190167\n",
            "epoch: 6300, acc: 0.957, loss: 0.115, lr: 0.13700506918755992\n",
            "epoch: 6400, acc: 0.957, loss: 0.115, lr: 0.13515339910798757\n",
            "epoch: 6500, acc: 0.957, loss: 0.114, lr: 0.13335111348179757\n",
            "epoch: 6600, acc: 0.957, loss: 0.114, lr: 0.13159626266614027\n",
            "epoch: 6700, acc: 0.957, loss: 0.113, lr: 0.12988699831146902\n",
            "epoch: 6800, acc: 0.957, loss: 0.113, lr: 0.12822156686754713\n",
            "epoch: 6900, acc: 0.957, loss: 0.112, lr: 0.126598303582732\n",
            "epoch: 7000, acc: 0.957, loss: 0.112, lr: 0.12501562695336915\n",
            "epoch: 7100, acc: 0.957, loss: 0.111, lr: 0.12347203358439313\n",
            "epoch: 7200, acc: 0.957, loss: 0.111, lr: 0.12196609342602757\n",
            "epoch: 7300, acc: 0.960, loss: 0.110, lr: 0.12049644535486204\n",
            "epoch: 7400, acc: 0.960, loss: 0.110, lr: 0.11906179307060363\n",
            "epoch: 7500, acc: 0.960, loss: 0.109, lr: 0.11766090128250381\n",
            "epoch: 7600, acc: 0.960, loss: 0.109, lr: 0.11629259216187929\n",
            "epoch: 7700, acc: 0.960, loss: 0.109, lr: 0.11495574203931487\n",
            "epoch: 7800, acc: 0.960, loss: 0.108, lr: 0.11364927832708263\n",
            "epoch: 7900, acc: 0.960, loss: 0.108, lr: 0.11237217664906168\n",
            "epoch: 8000, acc: 0.960, loss: 0.107, lr: 0.11112345816201799\n",
            "epoch: 8100, acc: 0.960, loss: 0.107, lr: 0.10990218705352237\n",
            "epoch: 8200, acc: 0.957, loss: 0.107, lr: 0.10870746820306555\n",
            "epoch: 8300, acc: 0.957, loss: 0.106, lr: 0.1075384449940854\n",
            "epoch: 8400, acc: 0.957, loss: 0.106, lr: 0.10639429726566654\n",
            "epoch: 8500, acc: 0.957, loss: 0.106, lr: 0.10527423939362038\n",
            "epoch: 8600, acc: 0.960, loss: 0.106, lr: 0.10417751849150952\n",
            "epoch: 8700, acc: 0.957, loss: 0.105, lr: 0.10310341272296113\n",
            "epoch: 8800, acc: 0.960, loss: 0.105, lr: 0.1020512297173181\n",
            "epoch: 8900, acc: 0.960, loss: 0.105, lr: 0.10102030508132134\n",
            "epoch: 9000, acc: 0.960, loss: 0.104, lr: 0.1000100010001\n",
            "epoch: 9100, acc: 0.957, loss: 0.104, lr: 0.09901970492127933\n",
            "epoch: 9200, acc: 0.960, loss: 0.104, lr: 0.09804882831650162\n",
            "epoch: 9300, acc: 0.960, loss: 0.104, lr: 0.09709680551509856\n",
            "epoch: 9400, acc: 0.960, loss: 0.103, lr: 0.09616309260505818\n",
            "epoch: 9500, acc: 0.957, loss: 0.103, lr: 0.09524716639679968\n",
            "epoch: 9600, acc: 0.960, loss: 0.103, lr: 0.09434852344560807\n",
            "epoch: 9700, acc: 0.957, loss: 0.103, lr: 0.09346667912889055\n",
            "epoch: 9800, acc: 0.957, loss: 0.102, lr: 0.09260116677470137\n",
            "epoch: 9900, acc: 0.957, loss: 0.102, lr: 0.09175153683824203\n",
            "epoch: 10000, acc: 0.960, loss: 0.102, lr: 0.09091735612328393\n"
          ]
        }
      ]
    },
    {
      "cell_type": "code",
      "source": [
        "#adagrad\n",
        "import numpy as np\n",
        "class Optimizer_Adagrad:\n",
        "  def __init__(self,learning_rate=1.,decay=0.,epsilon=1e-7):\n",
        "    self.learning_rate= learning_rate\n",
        "    self.current_learning_rate= learning_rate\n",
        "    self.decay= decay\n",
        "    self.iterations=0\n",
        "    self.epsilon= epsilon\n",
        "\n",
        "  def pre_update_params(self):\n",
        "    if self.decay:\n",
        "      self.current_learning_rate= self.learning_rate*(1/(1+self.decay*self.iterations))\n",
        "\n",
        "  def update_params(self,layer):\n",
        "    if not hasattr(layer,'weight_cache'):\n",
        "      layer.weight_cache= np.zeros_like(layer.weights)\n",
        "      layer.bias_cache= np.zeros_like(layer.biases)\n",
        "    layer.weight_cache+=layer.dweights**2\n",
        "    layer.bias_cache+=layer.dbiases**2\n",
        "    layer.weights+=-self.current_learning_rate*layer.dweights/(np.sqrt(layer.weight_cache)+self.epsilon)\n",
        "    layer.biases+=-self.current_learning_rate*layer.dbiases/(np.sqrt(layer.bias_cache)+self.epsilon)\n",
        "\n",
        "  def post_update_params(self):\n",
        "    self.iterations+=1"
      ],
      "metadata": {
        "id": "mg2TGD1AFwPh"
      },
      "execution_count": null,
      "outputs": []
    },
    {
      "cell_type": "code",
      "source": [
        "import numpy as np\n",
        "X,y = spiral_data(samples=100,classes=3)\n",
        "dense1= Layer_Dense(2,64)\n",
        "activation1= Activation_ReLU()\n",
        "dense2= Layer_Dense(64,3)\n",
        "loss_Activation= Activation_Softmax_Loss_CategoricalCrossentropy()\n",
        "optimizer= Optimizer_Adagrad(decay=1e-4)\n",
        "for epoch in range(10001):\n",
        "  dense1.forward(X)\n",
        "  activation1.forward(dense1.output)\n",
        "  dense2.forward(activation1.output)\n",
        "  loss= loss_Activation.forward(dense2.output,y)\n",
        "  predictions= np.argmax(loss_Activation.output,axis=1)\n",
        "  if len(y.shape)==2:\n",
        "    y= np.argmax(y,axis=1)\n",
        "  accuracy= np.mean(predictions==y)\n",
        "\n",
        "  if not epoch%100:\n",
        "     print(f'epoch: {epoch}, ' +\n",
        "              f'acc: {accuracy:.3f}, ' +\n",
        "              f'loss: {loss:.3f}, ' +\n",
        "              f'lr: {optimizer.current_learning_rate}')\n",
        "\n",
        "  loss_Activation.backward(loss_Activation.output,y)\n",
        "  dense2.backward(loss_Activation.dinputs)\n",
        "  activation1.backward(dense2.dinputs)\n",
        "  dense1.backward(activation1.dinputs)\n",
        "\n",
        "  optimizer.pre_update_params()\n",
        "  optimizer.update_params(dense1)\n",
        "  optimizer.update_params(dense2)\n",
        "  optimizer.post_update_params()\n"
      ],
      "metadata": {
        "colab": {
          "base_uri": "https://localhost:8080/"
        },
        "id": "LgUPeeQ-FwYG",
        "outputId": "2d89745b-7c49-4e80-8807-b5ff8eb4b0f1"
      },
      "execution_count": null,
      "outputs": [
        {
          "output_type": "stream",
          "name": "stdout",
          "text": [
            "epoch: 0, acc: 0.313, loss: 1.099, lr: 1.0\n",
            "epoch: 100, acc: 0.457, loss: 1.022, lr: 0.9901970492127933\n",
            "epoch: 200, acc: 0.463, loss: 0.991, lr: 0.9804882831650161\n",
            "epoch: 300, acc: 0.477, loss: 0.971, lr: 0.9709680551509855\n",
            "epoch: 400, acc: 0.507, loss: 0.938, lr: 0.9616309260505818\n",
            "epoch: 500, acc: 0.520, loss: 0.914, lr: 0.9524716639679969\n",
            "epoch: 600, acc: 0.570, loss: 0.890, lr: 0.9434852344560807\n",
            "epoch: 700, acc: 0.573, loss: 0.876, lr: 0.9346667912889054\n",
            "epoch: 800, acc: 0.577, loss: 0.865, lr: 0.9260116677470135\n",
            "epoch: 900, acc: 0.570, loss: 0.853, lr: 0.9175153683824203\n",
            "epoch: 1000, acc: 0.567, loss: 0.845, lr: 0.9091735612328392\n",
            "epoch: 1100, acc: 0.580, loss: 0.833, lr: 0.9009820704567978\n",
            "epoch: 1200, acc: 0.577, loss: 0.824, lr: 0.892936869363336\n",
            "epoch: 1300, acc: 0.573, loss: 0.813, lr: 0.8850340738118416\n",
            "epoch: 1400, acc: 0.593, loss: 0.804, lr: 0.8772699359592947\n",
            "epoch: 1500, acc: 0.600, loss: 0.797, lr: 0.8696408383337683\n",
            "epoch: 1600, acc: 0.617, loss: 0.785, lr: 0.8621432882145013\n",
            "epoch: 1700, acc: 0.623, loss: 0.776, lr: 0.8547739123001966\n",
            "epoch: 1800, acc: 0.627, loss: 0.767, lr: 0.8475294516484448\n",
            "epoch: 1900, acc: 0.630, loss: 0.759, lr: 0.8404067568703253\n",
            "epoch: 2000, acc: 0.627, loss: 0.750, lr: 0.8334027835652972\n",
            "epoch: 2100, acc: 0.630, loss: 0.744, lr: 0.8265145879824779\n",
            "epoch: 2200, acc: 0.640, loss: 0.736, lr: 0.8197393228953193\n",
            "epoch: 2300, acc: 0.647, loss: 0.729, lr: 0.8130742336775347\n",
            "epoch: 2400, acc: 0.647, loss: 0.723, lr: 0.8065166545689169\n",
            "epoch: 2500, acc: 0.653, loss: 0.719, lr: 0.8000640051204096\n",
            "epoch: 2600, acc: 0.647, loss: 0.708, lr: 0.7937137868084768\n",
            "epoch: 2700, acc: 0.653, loss: 0.701, lr: 0.7874635798094338\n",
            "epoch: 2800, acc: 0.660, loss: 0.692, lr: 0.7813110399249941\n",
            "epoch: 2900, acc: 0.653, loss: 0.695, lr: 0.7752538956508256\n",
            "epoch: 3000, acc: 0.667, loss: 0.681, lr: 0.7692899453804138\n",
            "epoch: 3100, acc: 0.670, loss: 0.670, lr: 0.7634170547370028\n",
            "epoch: 3200, acc: 0.673, loss: 0.664, lr: 0.7576331540268202\n",
            "epoch: 3300, acc: 0.707, loss: 0.661, lr: 0.7519362358072035\n",
            "epoch: 3400, acc: 0.683, loss: 0.646, lr: 0.7463243525636241\n",
            "epoch: 3500, acc: 0.687, loss: 0.640, lr: 0.7407956144899621\n",
            "epoch: 3600, acc: 0.700, loss: 0.631, lr: 0.735348187366718\n",
            "epoch: 3700, acc: 0.707, loss: 0.627, lr: 0.7299802905321557\n",
            "epoch: 3800, acc: 0.720, loss: 0.618, lr: 0.7246901949416624\n",
            "epoch: 3900, acc: 0.737, loss: 0.614, lr: 0.7194762213108857\n",
            "epoch: 4000, acc: 0.727, loss: 0.607, lr: 0.7143367383384527\n",
            "epoch: 4100, acc: 0.733, loss: 0.600, lr: 0.7092701610043266\n",
            "epoch: 4200, acc: 0.733, loss: 0.595, lr: 0.7042749489400663\n",
            "epoch: 4300, acc: 0.737, loss: 0.585, lr: 0.6993496048674733\n",
            "epoch: 4400, acc: 0.743, loss: 0.576, lr: 0.6944926731022988\n",
            "epoch: 4500, acc: 0.740, loss: 0.573, lr: 0.6897027381198704\n",
            "epoch: 4600, acc: 0.733, loss: 0.568, lr: 0.6849784231796698\n",
            "epoch: 4700, acc: 0.747, loss: 0.563, lr: 0.6803183890060548\n",
            "epoch: 4800, acc: 0.743, loss: 0.560, lr: 0.6757213325224677\n",
            "epoch: 4900, acc: 0.750, loss: 0.556, lr: 0.6711859856366199\n",
            "epoch: 5000, acc: 0.757, loss: 0.552, lr: 0.6667111140742716\n",
            "epoch: 5100, acc: 0.760, loss: 0.549, lr: 0.6622955162593549\n",
            "epoch: 5200, acc: 0.763, loss: 0.546, lr: 0.6579380222383051\n",
            "epoch: 5300, acc: 0.763, loss: 0.543, lr: 0.6536374926465782\n",
            "epoch: 5400, acc: 0.763, loss: 0.541, lr: 0.649392817715436\n",
            "epoch: 5500, acc: 0.757, loss: 0.540, lr: 0.6452029163171817\n",
            "epoch: 5600, acc: 0.773, loss: 0.536, lr: 0.6410667350471184\n",
            "epoch: 5700, acc: 0.787, loss: 0.529, lr: 0.6369832473405949\n",
            "epoch: 5800, acc: 0.783, loss: 0.526, lr: 0.6329514526235838\n",
            "epoch: 5900, acc: 0.783, loss: 0.522, lr: 0.6289703754953141\n",
            "epoch: 6000, acc: 0.790, loss: 0.519, lr: 0.6250390649415589\n",
            "epoch: 6100, acc: 0.787, loss: 0.517, lr: 0.6211565935772407\n",
            "epoch: 6200, acc: 0.780, loss: 0.515, lr: 0.6173220569170937\n",
            "epoch: 6300, acc: 0.787, loss: 0.512, lr: 0.6135345726731701\n",
            "epoch: 6400, acc: 0.790, loss: 0.510, lr: 0.6097932800780536\n",
            "epoch: 6500, acc: 0.790, loss: 0.508, lr: 0.6060973392326807\n",
            "epoch: 6600, acc: 0.783, loss: 0.506, lr: 0.6024459304777396\n",
            "epoch: 6700, acc: 0.783, loss: 0.504, lr: 0.5988382537876519\n",
            "epoch: 6800, acc: 0.783, loss: 0.502, lr: 0.5952735281862016\n",
            "epoch: 6900, acc: 0.783, loss: 0.500, lr: 0.5917509911829102\n",
            "epoch: 7000, acc: 0.787, loss: 0.498, lr: 0.5882698982293076\n",
            "epoch: 7100, acc: 0.790, loss: 0.496, lr: 0.5848295221942803\n",
            "epoch: 7200, acc: 0.790, loss: 0.494, lr: 0.5814291528577243\n",
            "epoch: 7300, acc: 0.793, loss: 0.492, lr: 0.5780680964217585\n",
            "epoch: 7400, acc: 0.797, loss: 0.491, lr: 0.5747456750387954\n",
            "epoch: 7500, acc: 0.793, loss: 0.489, lr: 0.5714612263557918\n",
            "epoch: 7600, acc: 0.800, loss: 0.487, lr: 0.5682141030740383\n",
            "epoch: 7700, acc: 0.800, loss: 0.485, lr: 0.5650036725238714\n",
            "epoch: 7800, acc: 0.800, loss: 0.484, lr: 0.5618293162537221\n",
            "epoch: 7900, acc: 0.800, loss: 0.482, lr: 0.5586904296329404\n",
            "epoch: 8000, acc: 0.797, loss: 0.481, lr: 0.5555864214678593\n",
            "epoch: 8100, acc: 0.797, loss: 0.480, lr: 0.5525167136305873\n",
            "epoch: 8200, acc: 0.797, loss: 0.478, lr: 0.5494807407000385\n",
            "epoch: 8300, acc: 0.797, loss: 0.477, lr: 0.5464779496147331\n",
            "epoch: 8400, acc: 0.797, loss: 0.476, lr: 0.5435077993369205\n",
            "epoch: 8500, acc: 0.800, loss: 0.475, lr: 0.5405697605275961\n",
            "epoch: 8600, acc: 0.797, loss: 0.474, lr: 0.5376633152320017\n",
            "epoch: 8700, acc: 0.797, loss: 0.473, lr: 0.5347879565752179\n",
            "epoch: 8800, acc: 0.800, loss: 0.472, lr: 0.5319431884674717\n",
            "epoch: 8900, acc: 0.800, loss: 0.471, lr: 0.5291285253188\n",
            "epoch: 9000, acc: 0.803, loss: 0.470, lr: 0.5263434917627243\n",
            "epoch: 9100, acc: 0.800, loss: 0.469, lr: 0.5235876223886068\n",
            "epoch: 9200, acc: 0.803, loss: 0.468, lr: 0.5208604614823689\n",
            "epoch: 9300, acc: 0.803, loss: 0.467, lr: 0.5181615627752734\n",
            "epoch: 9400, acc: 0.803, loss: 0.466, lr: 0.5154904892004742\n",
            "epoch: 9500, acc: 0.807, loss: 0.465, lr: 0.5128468126570593\n",
            "epoch: 9600, acc: 0.807, loss: 0.464, lr: 0.5102301137813153\n",
            "epoch: 9700, acc: 0.807, loss: 0.463, lr: 0.5076399817249606\n",
            "epoch: 9800, acc: 0.807, loss: 0.462, lr: 0.5050760139400979\n",
            "epoch: 9900, acc: 0.810, loss: 0.461, lr: 0.5025378159706518\n",
            "epoch: 10000, acc: 0.810, loss: 0.460, lr: 0.5000250012500626\n"
          ]
        }
      ]
    },
    {
      "cell_type": "code",
      "source": [
        "#RMSprop\n",
        "import numpy as np\n",
        "class Optimizer_RMSprop:\n",
        "  def __init__(self,learning_rate=0.001,decay=0.,epsilon=1e-7,rho=0.9):\n",
        "    self.learning_rate= learning_rate\n",
        "    self.current_learning_rate= learning_rate\n",
        "    self.decay= decay\n",
        "    self.iterations=0\n",
        "    self.epsilon= epsilon\n",
        "    self.rho= rho\n",
        "\n",
        "  def pre_update_params(self):\n",
        "    if self.decay:\n",
        "      self.current_learning_rate= self.learning_rate*(1/(1+self.decay*self.iterations))\n",
        "\n",
        "  def update_params(self,layer):\n",
        "    if not hasattr(layer,'weight_cache'):\n",
        "      layer.weight_cache= np.zeros_like(layer.weights)\n",
        "      layer.bias_cache= np.zeros_like(layer.biases)\n",
        "    layer.weight_cache=self.rho*layer.weight_cache+(1-self.rho)*layer.dweights**2\n",
        "    layer.bias_cache=self.rho*layer.bias_cache+(1-self.rho)*layer.dbiases**2\n",
        "    layer.weights+=-self.current_learning_rate*layer.dweights/(np.sqrt(layer.weight_cache)+self.epsilon)\n",
        "    layer.biases+=-self.current_learning_rate*layer.dbiases/(np.sqrt(layer.bias_cache)+self.epsilon)\n",
        "\n",
        "  def post_update_params(self):\n",
        "    self.iterations+=1"
      ],
      "metadata": {
        "id": "DjM29FRXFwbn"
      },
      "execution_count": null,
      "outputs": []
    },
    {
      "cell_type": "code",
      "source": [
        "import numpy as np\n",
        "X,y = spiral_data(samples=100,classes=3)\n",
        "dense1= Layer_Dense(2,64)\n",
        "activation1= Activation_ReLU()\n",
        "dense2= Layer_Dense(64,3)\n",
        "loss_Activation= Activation_Softmax_Loss_CategoricalCrossentropy()\n",
        "optimizer = Optimizer_RMSprop(learning_rate=0.02, decay=1e-5,rho=0.999)\n",
        "for epoch in range(10001):\n",
        "  dense1.forward(X)\n",
        "  activation1.forward(dense1.output)\n",
        "  dense2.forward(activation1.output)\n",
        "  loss= loss_Activation.forward(dense2.output,y)\n",
        "  predictions= np.argmax(loss_Activation.output,axis=1)\n",
        "  if len(y.shape)==2:\n",
        "    y= np.argmax(y,axis=1)\n",
        "  accuracy= np.mean(predictions==y)\n",
        "\n",
        "  if not epoch%100:\n",
        "     print(f'epoch: {epoch}, ' +\n",
        "              f'acc: {accuracy:.3f}, ' +\n",
        "              f'loss: {loss:.3f}, ' +\n",
        "              f'lr: {optimizer.current_learning_rate}')\n",
        "\n",
        "  loss_Activation.backward(loss_Activation.output,y)\n",
        "  dense2.backward(loss_Activation.dinputs)\n",
        "  activation1.backward(dense2.dinputs)\n",
        "  dense1.backward(activation1.dinputs)\n",
        "\n",
        "  optimizer.pre_update_params()\n",
        "  optimizer.update_params(dense1)\n",
        "  optimizer.update_params(dense2)\n",
        "  optimizer.post_update_params()\n"
      ],
      "metadata": {
        "colab": {
          "base_uri": "https://localhost:8080/"
        },
        "id": "dkoIaS7uNB-r",
        "outputId": "3dd654f4-e2d2-4a5e-9532-b4396adec653"
      },
      "execution_count": null,
      "outputs": [
        {
          "output_type": "stream",
          "name": "stdout",
          "text": [
            "epoch: 0, acc: 0.343, loss: 1.099, lr: 0.02\n",
            "epoch: 100, acc: 0.450, loss: 0.996, lr: 0.01998021958261321\n",
            "epoch: 200, acc: 0.497, loss: 0.945, lr: 0.019960279044701046\n",
            "epoch: 300, acc: 0.493, loss: 0.910, lr: 0.019940378268975763\n",
            "epoch: 400, acc: 0.553, loss: 0.872, lr: 0.01992051713662487\n",
            "epoch: 500, acc: 0.650, loss: 0.822, lr: 0.01990069552930875\n",
            "epoch: 600, acc: 0.697, loss: 0.771, lr: 0.019880913329158343\n",
            "epoch: 700, acc: 0.633, loss: 0.736, lr: 0.019861170418772778\n",
            "epoch: 800, acc: 0.713, loss: 0.713, lr: 0.019841466681217078\n",
            "epoch: 900, acc: 0.710, loss: 0.696, lr: 0.01982180200001982\n",
            "epoch: 1000, acc: 0.690, loss: 0.666, lr: 0.019802176259170884\n",
            "epoch: 1100, acc: 0.680, loss: 0.659, lr: 0.01978258934311912\n",
            "epoch: 1200, acc: 0.690, loss: 0.639, lr: 0.01976304113677013\n",
            "epoch: 1300, acc: 0.683, loss: 0.645, lr: 0.019743531525483964\n",
            "epoch: 1400, acc: 0.710, loss: 0.623, lr: 0.01972406039507293\n",
            "epoch: 1500, acc: 0.743, loss: 0.607, lr: 0.019704627631799327\n",
            "epoch: 1600, acc: 0.743, loss: 0.610, lr: 0.019685233122373254\n",
            "epoch: 1700, acc: 0.743, loss: 0.597, lr: 0.019665876753950384\n",
            "epoch: 1800, acc: 0.713, loss: 0.594, lr: 0.01964655841412981\n",
            "epoch: 1900, acc: 0.740, loss: 0.588, lr: 0.019627277990951823\n",
            "epoch: 2000, acc: 0.770, loss: 0.582, lr: 0.019608035372895814\n",
            "epoch: 2100, acc: 0.723, loss: 0.574, lr: 0.01958883044887805\n",
            "epoch: 2200, acc: 0.757, loss: 0.571, lr: 0.019569663108249594\n",
            "epoch: 2300, acc: 0.743, loss: 0.565, lr: 0.01955053324079414\n",
            "epoch: 2400, acc: 0.760, loss: 0.553, lr: 0.019531440736725945\n",
            "epoch: 2500, acc: 0.757, loss: 0.539, lr: 0.019512385486687673\n",
            "epoch: 2600, acc: 0.757, loss: 0.539, lr: 0.019493367381748363\n",
            "epoch: 2700, acc: 0.777, loss: 0.526, lr: 0.019474386313401298\n",
            "epoch: 2800, acc: 0.757, loss: 0.522, lr: 0.019455442173562\n",
            "epoch: 2900, acc: 0.760, loss: 0.532, lr: 0.019436534854566128\n",
            "epoch: 3000, acc: 0.730, loss: 0.633, lr: 0.01941766424916747\n",
            "epoch: 3100, acc: 0.777, loss: 0.536, lr: 0.019398830250535893\n",
            "epoch: 3200, acc: 0.740, loss: 0.606, lr: 0.019380032752255354\n",
            "epoch: 3300, acc: 0.800, loss: 0.471, lr: 0.01936127164832186\n",
            "epoch: 3400, acc: 0.793, loss: 0.478, lr: 0.01934254683314152\n",
            "epoch: 3500, acc: 0.817, loss: 0.450, lr: 0.019323858201528515\n",
            "epoch: 3600, acc: 0.817, loss: 0.438, lr: 0.019305205648703173\n",
            "epoch: 3700, acc: 0.833, loss: 0.427, lr: 0.01928658907028997\n",
            "epoch: 3800, acc: 0.843, loss: 0.397, lr: 0.01926800836231563\n",
            "epoch: 3900, acc: 0.840, loss: 0.404, lr: 0.019249463421207133\n",
            "epoch: 4000, acc: 0.840, loss: 0.396, lr: 0.019230954143789846\n",
            "epoch: 4100, acc: 0.763, loss: 0.582, lr: 0.019212480427285565\n",
            "epoch: 4200, acc: 0.853, loss: 0.380, lr: 0.019194042169310647\n",
            "epoch: 4300, acc: 0.857, loss: 0.377, lr: 0.019175639267874092\n",
            "epoch: 4400, acc: 0.860, loss: 0.371, lr: 0.019157271621375684\n",
            "epoch: 4500, acc: 0.790, loss: 0.493, lr: 0.0191389391286041\n",
            "epoch: 4600, acc: 0.863, loss: 0.355, lr: 0.019120641688735073\n",
            "epoch: 4700, acc: 0.867, loss: 0.355, lr: 0.019102379201329525\n",
            "epoch: 4800, acc: 0.880, loss: 0.352, lr: 0.01908415156633174\n",
            "epoch: 4900, acc: 0.880, loss: 0.347, lr: 0.01906595868406753\n",
            "epoch: 5000, acc: 0.877, loss: 0.351, lr: 0.01904780045524243\n",
            "epoch: 5100, acc: 0.877, loss: 0.333, lr: 0.019029676780939874\n",
            "epoch: 5200, acc: 0.887, loss: 0.323, lr: 0.019011587562619416\n",
            "epoch: 5300, acc: 0.890, loss: 0.318, lr: 0.01899353270211493\n",
            "epoch: 5400, acc: 0.893, loss: 0.314, lr: 0.018975512101632844\n",
            "epoch: 5500, acc: 0.897, loss: 0.308, lr: 0.018957525663750367\n",
            "epoch: 5600, acc: 0.897, loss: 0.304, lr: 0.018939573291413745\n",
            "epoch: 5700, acc: 0.897, loss: 0.300, lr: 0.018921654887936498\n",
            "epoch: 5800, acc: 0.747, loss: 0.668, lr: 0.018903770356997706\n",
            "epoch: 5900, acc: 0.897, loss: 0.277, lr: 0.018885919602640248\n",
            "epoch: 6000, acc: 0.893, loss: 0.286, lr: 0.018868102529269144\n",
            "epoch: 6100, acc: 0.893, loss: 0.284, lr: 0.018850319041649778\n",
            "epoch: 6200, acc: 0.897, loss: 0.282, lr: 0.018832569044906263\n",
            "epoch: 6300, acc: 0.897, loss: 0.279, lr: 0.018814852444519702\n",
            "epoch: 6400, acc: 0.897, loss: 0.276, lr: 0.018797169146326564\n",
            "epoch: 6500, acc: 0.900, loss: 0.274, lr: 0.01877951905651696\n",
            "epoch: 6600, acc: 0.900, loss: 0.271, lr: 0.018761902081633034\n",
            "epoch: 6700, acc: 0.900, loss: 0.268, lr: 0.018744318128567278\n",
            "epoch: 6800, acc: 0.903, loss: 0.267, lr: 0.018726767104560903\n",
            "epoch: 6900, acc: 0.900, loss: 0.242, lr: 0.018709248917202218\n",
            "epoch: 7000, acc: 0.897, loss: 0.246, lr: 0.018691763474424996\n",
            "epoch: 7100, acc: 0.897, loss: 0.249, lr: 0.018674310684506857\n",
            "epoch: 7200, acc: 0.897, loss: 0.248, lr: 0.01865689045606769\n",
            "epoch: 7300, acc: 0.897, loss: 0.247, lr: 0.01863950269806802\n",
            "epoch: 7400, acc: 0.897, loss: 0.245, lr: 0.018622147319807447\n",
            "epoch: 7500, acc: 0.897, loss: 0.244, lr: 0.018604824230923075\n",
            "epoch: 7600, acc: 0.897, loss: 0.243, lr: 0.01858753334138793\n",
            "epoch: 7700, acc: 0.900, loss: 0.248, lr: 0.018570274561509396\n",
            "epoch: 7800, acc: 0.897, loss: 0.232, lr: 0.018553047801927663\n",
            "epoch: 7900, acc: 0.897, loss: 0.235, lr: 0.018535852973614212\n",
            "epoch: 8000, acc: 0.897, loss: 0.236, lr: 0.01851868998787026\n",
            "epoch: 8100, acc: 0.897, loss: 0.234, lr: 0.018501558756325222\n",
            "epoch: 8200, acc: 0.897, loss: 0.233, lr: 0.01848445919093522\n",
            "epoch: 8300, acc: 0.897, loss: 0.232, lr: 0.018467391203981567\n",
            "epoch: 8400, acc: 0.887, loss: 0.249, lr: 0.018450354708069265\n",
            "epoch: 8500, acc: 0.917, loss: 0.221, lr: 0.018433349616125496\n",
            "epoch: 8600, acc: 0.917, loss: 0.227, lr: 0.018416375841398172\n",
            "epoch: 8700, acc: 0.910, loss: 0.229, lr: 0.01839943329745444\n",
            "epoch: 8800, acc: 0.910, loss: 0.229, lr: 0.01838252189817921\n",
            "epoch: 8900, acc: 0.910, loss: 0.229, lr: 0.018365641557773718\n",
            "epoch: 9000, acc: 0.910, loss: 0.229, lr: 0.018348792190754044\n",
            "epoch: 9100, acc: 0.910, loss: 0.227, lr: 0.0183319737119497\n",
            "epoch: 9200, acc: 0.910, loss: 0.226, lr: 0.018315186036502167\n",
            "epoch: 9300, acc: 0.910, loss: 0.231, lr: 0.018298429079863496\n",
            "epoch: 9400, acc: 0.917, loss: 0.213, lr: 0.018281702757794862\n",
            "epoch: 9500, acc: 0.913, loss: 0.218, lr: 0.018265006986365174\n",
            "epoch: 9600, acc: 0.910, loss: 0.219, lr: 0.018248341681949654\n",
            "epoch: 9700, acc: 0.910, loss: 0.220, lr: 0.018231706761228456\n",
            "epoch: 9800, acc: 0.910, loss: 0.220, lr: 0.018215102141185255\n",
            "epoch: 9900, acc: 0.910, loss: 0.219, lr: 0.018198527739105907\n",
            "epoch: 10000, acc: 0.910, loss: 0.219, lr: 0.018181983472577025\n"
          ]
        }
      ]
    },
    {
      "cell_type": "code",
      "source": [
        "#adam\n",
        "import numpy as np\n",
        "class Optimizer_Adam:\n",
        "  def __init__(self,learning_rate=0.001,decay=0.,epsilon=1e-7,beta1=0.9,beta2=0.999):\n",
        "    self.learning_rate= learning_rate\n",
        "    self.current_learning_rate= learning_rate\n",
        "    self.decay= decay\n",
        "    self.iterations=0\n",
        "    self.epsilon= epsilon\n",
        "    self.beta1= beta1\n",
        "    self.beta2= beta2\n",
        "\n",
        "  def pre_update_params(self):\n",
        "    if self.decay:\n",
        "      self.current_learning_rate= self.learning_rate*(1/(1+self.decay*self.iterations))\n",
        "\n",
        "  def update_params(self,layer):\n",
        "    if not hasattr(layer,'weight_cache'):\n",
        "      layer.weight_cache= np.zeros_like(layer.weights)\n",
        "      layer.bias_cache= np.zeros_like(layer.biases)\n",
        "      layer.weight_momentums= np.zeros_like(layer.weights)\n",
        "      layer.bias_momentums= np.zeros_like(layer.biases)\n",
        "\n",
        "    layer.weight_momentums=self.beta1*layer.weight_momentums+(1-self.beta1)*layer.dweights\n",
        "    layer.bias_momentums= self.beta1*layer.bias_momentums+(1-self.beta1)*layer.dbiases\n",
        "    weight_momentums_corrected= layer.weight_momentums/(1-self.beta1**(self.iterations+1))\n",
        "    bias_momentums_corrected= layer.bias_momentums/(1-self.beta1**(self.iterations+1))\n",
        "\n",
        "    layer.weight_cache= self.beta2*layer.weight_cache+(1-self.beta2)*layer.dweights**2\n",
        "    layer.bias_cache=self.beta2*layer.bias_cache+(1-self.beta2)*layer.dbiases**2\n",
        "    weight_cache_corrected= layer.weight_cache/(1-self.beta2**(self.iterations+1))\n",
        "    bias_cache_corrected= layer.bias_cache/(1-self.beta2**(self.iterations+1))\n",
        "\n",
        "    layer.weights+=-self.current_learning_rate*weight_momentums_corrected/(np.sqrt(weight_cache_corrected)+self.epsilon)\n",
        "    layer.biases+=-self.current_learning_rate*bias_momentums_corrected/(np.sqrt(bias_cache_corrected)+self.epsilon)\n",
        "  def post_update_params(self):\n",
        "    self.iterations+=1"
      ],
      "metadata": {
        "id": "K5ywB43nNCIX"
      },
      "execution_count": null,
      "outputs": []
    },
    {
      "cell_type": "code",
      "source": [
        "import numpy as np\n",
        "X,y = spiral_data(samples=100,classes=3)\n",
        "dense1= Layer_Dense(2,64)\n",
        "activation1= Activation_ReLU()\n",
        "dense2= Layer_Dense(64,3)\n",
        "loss_Activation= Activation_Softmax_Loss_CategoricalCrossentropy()\n",
        "optimizer = Optimizer_Adam(learning_rate=0.02, decay=1e-5)\n",
        "for epoch in range(10001):\n",
        "  dense1.forward(X)\n",
        "  activation1.forward(dense1.output)\n",
        "  dense2.forward(activation1.output)\n",
        "  loss= loss_Activation.forward(dense2.output,y)\n",
        "  predictions= np.argmax(loss_Activation.output,axis=1)\n",
        "  if len(y.shape)==2:\n",
        "    y= np.argmax(y,axis=1)\n",
        "  accuracy= np.mean(predictions==y)\n",
        "\n",
        "  if not epoch%100:\n",
        "     print(f'epoch: {epoch}, ' +\n",
        "              f'acc: {accuracy:.3f}, ' +\n",
        "              f'loss: {loss:.3f}, ' +\n",
        "              f'lr: {optimizer.current_learning_rate}')\n",
        "\n",
        "  loss_Activation.backward(loss_Activation.output,y)\n",
        "  dense2.backward(loss_Activation.dinputs)\n",
        "  activation1.backward(dense2.dinputs)\n",
        "  dense1.backward(activation1.dinputs)\n",
        "\n",
        "  optimizer.pre_update_params()\n",
        "  optimizer.update_params(dense1)\n",
        "  optimizer.update_params(dense2)\n",
        "  optimizer.post_update_params()\n"
      ],
      "metadata": {
        "colab": {
          "base_uri": "https://localhost:8080/"
        },
        "id": "cpdGAoLwNCSi",
        "outputId": "fcebc0a9-3856-46d7-dca4-b01cb4cace32"
      },
      "execution_count": null,
      "outputs": [
        {
          "output_type": "stream",
          "name": "stdout",
          "text": [
            "epoch: 0, acc: 0.250, loss: 1.099, lr: 0.02\n",
            "epoch: 100, acc: 0.600, loss: 0.879, lr: 0.01998021958261321\n",
            "epoch: 200, acc: 0.720, loss: 0.655, lr: 0.019960279044701046\n",
            "epoch: 300, acc: 0.723, loss: 0.575, lr: 0.019940378268975763\n",
            "epoch: 400, acc: 0.763, loss: 0.522, lr: 0.01992051713662487\n",
            "epoch: 500, acc: 0.787, loss: 0.464, lr: 0.01990069552930875\n",
            "epoch: 600, acc: 0.813, loss: 0.426, lr: 0.019880913329158343\n",
            "epoch: 700, acc: 0.813, loss: 0.400, lr: 0.019861170418772778\n",
            "epoch: 800, acc: 0.830, loss: 0.377, lr: 0.019841466681217078\n",
            "epoch: 900, acc: 0.833, loss: 0.358, lr: 0.01982180200001982\n",
            "epoch: 1000, acc: 0.837, loss: 0.347, lr: 0.019802176259170884\n",
            "epoch: 1100, acc: 0.847, loss: 0.338, lr: 0.01978258934311912\n",
            "epoch: 1200, acc: 0.860, loss: 0.321, lr: 0.01976304113677013\n",
            "epoch: 1300, acc: 0.860, loss: 0.311, lr: 0.019743531525483964\n",
            "epoch: 1400, acc: 0.870, loss: 0.301, lr: 0.01972406039507293\n",
            "epoch: 1500, acc: 0.873, loss: 0.293, lr: 0.019704627631799327\n",
            "epoch: 1600, acc: 0.870, loss: 0.285, lr: 0.019685233122373254\n",
            "epoch: 1700, acc: 0.877, loss: 0.278, lr: 0.019665876753950384\n",
            "epoch: 1800, acc: 0.877, loss: 0.272, lr: 0.01964655841412981\n",
            "epoch: 1900, acc: 0.880, loss: 0.263, lr: 0.019627277990951823\n",
            "epoch: 2000, acc: 0.883, loss: 0.257, lr: 0.019608035372895814\n",
            "epoch: 2100, acc: 0.893, loss: 0.250, lr: 0.01958883044887805\n",
            "epoch: 2200, acc: 0.897, loss: 0.243, lr: 0.019569663108249594\n",
            "epoch: 2300, acc: 0.890, loss: 0.239, lr: 0.01955053324079414\n",
            "epoch: 2400, acc: 0.903, loss: 0.233, lr: 0.019531440736725945\n",
            "epoch: 2500, acc: 0.893, loss: 0.229, lr: 0.019512385486687673\n",
            "epoch: 2600, acc: 0.897, loss: 0.225, lr: 0.019493367381748363\n",
            "epoch: 2700, acc: 0.903, loss: 0.222, lr: 0.019474386313401298\n",
            "epoch: 2800, acc: 0.903, loss: 0.218, lr: 0.019455442173562\n",
            "epoch: 2900, acc: 0.903, loss: 0.216, lr: 0.019436534854566128\n",
            "epoch: 3000, acc: 0.903, loss: 0.213, lr: 0.01941766424916747\n",
            "epoch: 3100, acc: 0.907, loss: 0.210, lr: 0.019398830250535893\n",
            "epoch: 3200, acc: 0.907, loss: 0.208, lr: 0.019380032752255354\n",
            "epoch: 3300, acc: 0.907, loss: 0.206, lr: 0.01936127164832186\n",
            "epoch: 3400, acc: 0.910, loss: 0.203, lr: 0.01934254683314152\n",
            "epoch: 3500, acc: 0.910, loss: 0.202, lr: 0.019323858201528515\n",
            "epoch: 3600, acc: 0.917, loss: 0.201, lr: 0.019305205648703173\n",
            "epoch: 3700, acc: 0.920, loss: 0.202, lr: 0.01928658907028997\n",
            "epoch: 3800, acc: 0.913, loss: 0.196, lr: 0.01926800836231563\n",
            "epoch: 3900, acc: 0.913, loss: 0.195, lr: 0.019249463421207133\n",
            "epoch: 4000, acc: 0.917, loss: 0.193, lr: 0.019230954143789846\n",
            "epoch: 4100, acc: 0.920, loss: 0.192, lr: 0.019212480427285565\n",
            "epoch: 4200, acc: 0.913, loss: 0.190, lr: 0.019194042169310647\n",
            "epoch: 4300, acc: 0.903, loss: 0.193, lr: 0.019175639267874092\n",
            "epoch: 4400, acc: 0.923, loss: 0.188, lr: 0.019157271621375684\n",
            "epoch: 4500, acc: 0.917, loss: 0.186, lr: 0.0191389391286041\n",
            "epoch: 4600, acc: 0.917, loss: 0.184, lr: 0.019120641688735073\n",
            "epoch: 4700, acc: 0.920, loss: 0.182, lr: 0.019102379201329525\n",
            "epoch: 4800, acc: 0.917, loss: 0.188, lr: 0.01908415156633174\n",
            "epoch: 4900, acc: 0.923, loss: 0.178, lr: 0.01906595868406753\n",
            "epoch: 5000, acc: 0.917, loss: 0.181, lr: 0.01904780045524243\n",
            "epoch: 5100, acc: 0.927, loss: 0.175, lr: 0.019029676780939874\n",
            "epoch: 5200, acc: 0.917, loss: 0.176, lr: 0.019011587562619416\n",
            "epoch: 5300, acc: 0.933, loss: 0.174, lr: 0.01899353270211493\n",
            "epoch: 5400, acc: 0.927, loss: 0.171, lr: 0.018975512101632844\n",
            "epoch: 5500, acc: 0.927, loss: 0.170, lr: 0.018957525663750367\n",
            "epoch: 5600, acc: 0.927, loss: 0.168, lr: 0.018939573291413745\n",
            "epoch: 5700, acc: 0.937, loss: 0.167, lr: 0.018921654887936498\n",
            "epoch: 5800, acc: 0.933, loss: 0.175, lr: 0.018903770356997706\n",
            "epoch: 5900, acc: 0.933, loss: 0.165, lr: 0.018885919602640248\n",
            "epoch: 6000, acc: 0.937, loss: 0.164, lr: 0.018868102529269144\n",
            "epoch: 6100, acc: 0.933, loss: 0.163, lr: 0.018850319041649778\n",
            "epoch: 6200, acc: 0.940, loss: 0.167, lr: 0.018832569044906263\n",
            "epoch: 6300, acc: 0.937, loss: 0.162, lr: 0.018814852444519702\n",
            "epoch: 6400, acc: 0.930, loss: 0.161, lr: 0.018797169146326564\n",
            "epoch: 6500, acc: 0.937, loss: 0.160, lr: 0.01877951905651696\n",
            "epoch: 6600, acc: 0.933, loss: 0.156, lr: 0.018761902081633034\n",
            "epoch: 6700, acc: 0.937, loss: 0.152, lr: 0.018744318128567278\n",
            "epoch: 6800, acc: 0.937, loss: 0.151, lr: 0.018726767104560903\n",
            "epoch: 6900, acc: 0.937, loss: 0.150, lr: 0.018709248917202218\n",
            "epoch: 7000, acc: 0.947, loss: 0.155, lr: 0.018691763474424996\n",
            "epoch: 7100, acc: 0.933, loss: 0.152, lr: 0.018674310684506857\n",
            "epoch: 7200, acc: 0.937, loss: 0.149, lr: 0.01865689045606769\n",
            "epoch: 7300, acc: 0.937, loss: 0.147, lr: 0.01863950269806802\n",
            "epoch: 7400, acc: 0.937, loss: 0.147, lr: 0.018622147319807447\n",
            "epoch: 7500, acc: 0.937, loss: 0.146, lr: 0.018604824230923075\n",
            "epoch: 7600, acc: 0.937, loss: 0.146, lr: 0.01858753334138793\n",
            "epoch: 7700, acc: 0.937, loss: 0.145, lr: 0.018570274561509396\n",
            "epoch: 7800, acc: 0.937, loss: 0.145, lr: 0.018553047801927663\n",
            "epoch: 7900, acc: 0.937, loss: 0.143, lr: 0.018535852973614212\n",
            "epoch: 8000, acc: 0.933, loss: 0.145, lr: 0.01851868998787026\n",
            "epoch: 8100, acc: 0.937, loss: 0.142, lr: 0.018501558756325222\n",
            "epoch: 8200, acc: 0.937, loss: 0.142, lr: 0.01848445919093522\n",
            "epoch: 8300, acc: 0.937, loss: 0.141, lr: 0.018467391203981567\n",
            "epoch: 8400, acc: 0.940, loss: 0.147, lr: 0.018450354708069265\n",
            "epoch: 8500, acc: 0.937, loss: 0.140, lr: 0.018433349616125496\n",
            "epoch: 8600, acc: 0.940, loss: 0.140, lr: 0.018416375841398172\n",
            "epoch: 8700, acc: 0.937, loss: 0.139, lr: 0.01839943329745444\n",
            "epoch: 8800, acc: 0.940, loss: 0.140, lr: 0.01838252189817921\n",
            "epoch: 8900, acc: 0.937, loss: 0.138, lr: 0.018365641557773718\n",
            "epoch: 9000, acc: 0.940, loss: 0.138, lr: 0.018348792190754044\n",
            "epoch: 9100, acc: 0.943, loss: 0.139, lr: 0.0183319737119497\n",
            "epoch: 9200, acc: 0.943, loss: 0.142, lr: 0.018315186036502167\n",
            "epoch: 9300, acc: 0.937, loss: 0.136, lr: 0.018298429079863496\n",
            "epoch: 9400, acc: 0.937, loss: 0.136, lr: 0.018281702757794862\n",
            "epoch: 9500, acc: 0.937, loss: 0.135, lr: 0.018265006986365174\n",
            "epoch: 9600, acc: 0.937, loss: 0.135, lr: 0.018248341681949654\n",
            "epoch: 9700, acc: 0.937, loss: 0.135, lr: 0.018231706761228456\n",
            "epoch: 9800, acc: 0.937, loss: 0.134, lr: 0.018215102141185255\n",
            "epoch: 9900, acc: 0.940, loss: 0.135, lr: 0.018198527739105907\n",
            "epoch: 10000, acc: 0.937, loss: 0.133, lr: 0.018181983472577025\n"
          ]
        }
      ]
    },
    {
      "cell_type": "code",
      "source": [],
      "metadata": {
        "id": "QhJ9a2K4Wp-W"
      },
      "execution_count": null,
      "outputs": []
    }
  ]
}